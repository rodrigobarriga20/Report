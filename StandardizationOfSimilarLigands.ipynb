{
 "cells": [
  {
   "cell_type": "markdown",
   "id": "b7a17285-2b7d-4410-bf7d-470c29bb0488",
   "metadata": {},
   "source": [
    "# Processing of IC50 files of similar proteins to TIGIT"
   ]
  },
  {
   "cell_type": "markdown",
   "id": "b88f32f1-b314-494b-abbe-767c87c98565",
   "metadata": {},
   "source": [
    "### Script based on Natália scripts"
   ]
  },
  {
   "cell_type": "markdown",
   "id": "27a8105c-0791-4162-ae1c-72919e2b6f83",
   "metadata": {},
   "source": [
    "# P12821"
   ]
  },
  {
   "cell_type": "code",
   "execution_count": 1,
   "id": "promotional-berlin",
   "metadata": {},
   "outputs": [],
   "source": [
    "#Imports\n",
    "\n",
    "import pandas as pd\n",
    "import numpy as np\n",
    "#from matplotlib_venn import venn2, venn3\n",
    "import matplotlib.pyplot as plt\n",
    "import matplotlib\n",
    "import seaborn as sns\n",
    "import molvs\n",
    "from molvs import Standardizer\n",
    "from molvs import fragment\n",
    "from molvs import charge\n",
    "from molvs import tautomer\n",
    "from rdkit.Chem.Scaffolds.MurckoScaffold import MakeScaffoldGeneric, GetScaffoldForMol\n",
    "from rdkit.Chem.MolStandardize import rdMolStandardize\n",
    "from rdkit.Chem.rdinchi import InchiToInchiKey, MolToInchi\n",
    "from rdkit import Chem\n",
    "from rdkit.Chem import AllChem, Draw, rdFMCS\n",
    "from rdkit.Chem.Draw import DrawingOptions\n",
    "from IPython.display import SVG\n",
    "from rdkit.Chem.PandasTools import AddMoleculeColumnToFrame\n",
    "from rdkit.Chem.Draw import IPythonConsole\n",
    "from rdkit.Chem.Draw.MolDrawing import MolDrawing, DrawingOptions\n",
    "#import pubchempy\n",
    "from scipy.stats import spearmanr\n",
    "from sklearn.manifold import TSNE\n",
    "from scipy import stats"
   ]
  },
  {
   "cell_type": "code",
   "execution_count": 2,
   "id": "flush-custom",
   "metadata": {},
   "outputs": [
    {
     "data": {
      "text/plain": [
       "((843, 46), (215, 31))"
      ]
     },
     "execution_count": 2,
     "metadata": {},
     "output_type": "execute_result"
    }
   ],
   "source": [
    "#Reading each file\n",
    "\n",
    "activities = pd.read_csv(\"LigandsChEMBL_IC50__Uniprot_P12821_PDB_1O86_PminHighest.csv\", sep=\";\")\n",
    "\n",
    "assays = pd.read_csv(\"AssaysChEMBL_Uniprot_P12821_PDB_1O86_PminHighest.csv\", sep=\";\")\n",
    "\n",
    "activities.shape, assays.shape"
   ]
  },
  {
   "cell_type": "code",
   "execution_count": 3,
   "id": "ef5a7a9a-b3dd-4457-90d0-162651ecce18",
   "metadata": {},
   "outputs": [
    {
     "data": {
      "text/plain": [
       "Index(['ChEMBL ID', 'Assay Type', 'Description', 'Organism', 'Compounds',\n",
       "       'Activities', 'BAO Format ID', 'BAO Format', 'Confidence Score',\n",
       "       'Confidence Label', 'Strain', 'Source', 'Tax ID', 'Tissue ChEMBL ID',\n",
       "       'Tissue Name', 'Cell Type', 'Subcellular Fraction',\n",
       "       'Document ChEMBL ID', 'PubMed ID', 'DOI', 'Year', 'Journal', 'Volume',\n",
       "       'First Page', 'Last Page', 'Assay Parameters',\n",
       "       'Assay Classification L1', 'Assay Classification L2',\n",
       "       'Assay Classification L3', 'Variant Sequence Accession',\n",
       "       'Variant Sequence Mutation'],\n",
       "      dtype='object')"
      ]
     },
     "execution_count": 3,
     "metadata": {},
     "output_type": "execute_result"
    }
   ],
   "source": [
    "assays.columns"
   ]
  },
  {
   "cell_type": "code",
   "execution_count": 4,
   "id": "missing-graduate",
   "metadata": {},
   "outputs": [],
   "source": [
    "#Only Assays with a ChEMBL ID will be accepted\n",
    "\n",
    "accepted_assays = assays[\"ChEMBL ID\"]"
   ]
  },
  {
   "cell_type": "code",
   "execution_count": 5,
   "id": "cleared-spoke",
   "metadata": {},
   "outputs": [
    {
     "data": {
      "text/plain": [
       "(707, 46)"
      ]
     },
     "execution_count": 5,
     "metadata": {},
     "output_type": "execute_result"
    }
   ],
   "source": [
    "#Only rows from \"activities\" whose ChEMBL ID is present in \"accepted_assays\" will be accepted \n",
    "\n",
    "accepted_rows_where = np.in1d(activities['Assay ChEMBL ID'], accepted_assays)\n",
    "activities = activities[accepted_rows_where]\n",
    "activities.shape"
   ]
  },
  {
   "cell_type": "code",
   "execution_count": 6,
   "id": "cloudy-medicaid",
   "metadata": {},
   "outputs": [
    {
     "name": "stdout",
     "output_type": "stream",
     "text": [
      "707 accepted bioactivies\n"
     ]
    }
   ],
   "source": [
    "print(sum(accepted_rows_where), \"accepted bioactivies\")"
   ]
  },
  {
   "cell_type": "code",
   "execution_count": 7,
   "id": "hawaiian-pittsburgh",
   "metadata": {},
   "outputs": [],
   "source": [
    "# Are all smiles valid? if not we need to remove the invalid entries\n",
    "if activities[\"Smiles\"].notnull().all() == False:\n",
    "    valid_smiles = activities[\"Smiles\"].notnull()\n",
    "    print(sum(~valid_smiles), \"removed lines\")\n",
    "    activities = activities[valid_smiles]"
   ]
  },
  {
   "cell_type": "code",
   "execution_count": 8,
   "id": "successful-binary",
   "metadata": {},
   "outputs": [
    {
     "name": "stdout",
     "output_type": "stream",
     "text": [
      "0 removed lines\n"
     ]
    }
   ],
   "source": [
    "# See if RDKit can understand all SMILES\n",
    "valid_smiles=[]\n",
    "\n",
    "for smi in activities[\"Smiles\"]:\n",
    "    try:\n",
    "        mol = Chem.MolFromSmiles(smi)\n",
    "        fp = AllChem.GetMorganFingerprintAsBitVect(mol,2,nBits=1024)\n",
    "        valid_smiles.append(True)\n",
    "    except:\n",
    "        valid_smiles.append(False)\n",
    "\n",
    "valid_smiles = np.array(valid_smiles)\n",
    "print(sum(~valid_smiles), \"removed lines\")\n",
    "activities = activities[valid_smiles]"
   ]
  },
  {
   "cell_type": "code",
   "execution_count": 9,
   "id": "hourly-blocking",
   "metadata": {},
   "outputs": [
    {
     "data": {
      "text/plain": [
       "array(['IC50'], dtype=object)"
      ]
     },
     "execution_count": 9,
     "metadata": {},
     "output_type": "execute_result"
    }
   ],
   "source": [
    "# Next I could standardise the molecules but, because this is an expensive step, I will try to narrow down the\n",
    "# dataset via activity types filtration\n",
    "activities['Standard Type'].unique()"
   ]
  },
  {
   "cell_type": "code",
   "execution_count": 10,
   "id": "every-sister",
   "metadata": {},
   "outputs": [
    {
     "data": {
      "text/plain": [
       "(707, 46)"
      ]
     },
     "execution_count": 10,
     "metadata": {},
     "output_type": "execute_result"
    }
   ],
   "source": [
    "# I will only use IC50 and Ki as I am interested in inhibitors\n",
    "accept_rows = np.in1d(activities['Standard Type'], ['IC50'])\n",
    "activities = activities[accept_rows]\n",
    "activities.shape"
   ]
  },
  {
   "cell_type": "code",
   "execution_count": 11,
   "id": "sweet-evolution",
   "metadata": {},
   "outputs": [
    {
     "data": {
      "text/plain": [
       "array([\"'='\", nan, \"'>'\"], dtype=object)"
      ]
     },
     "execution_count": 11,
     "metadata": {},
     "output_type": "execute_result"
    }
   ],
   "source": [
    "# Next I can filter out line with not mathematical relationship \n",
    "# One entry could be IC50 < 100 or IC50 > 100, we don't know...\n",
    "activities['Standard Relation'].unique()"
   ]
  },
  {
   "cell_type": "code",
   "execution_count": 12,
   "id": "continent-chick",
   "metadata": {},
   "outputs": [
    {
     "data": {
      "text/plain": [
       "(623, 46)"
      ]
     },
     "execution_count": 12,
     "metadata": {},
     "output_type": "execute_result"
    }
   ],
   "source": [
    "#Only with equals\n",
    "\n",
    "accept_rows = np.in1d(activities['Standard Relation'], [\"'='\"])\n",
    "activities = activities[accept_rows]\n",
    "activities.shape"
   ]
  },
  {
   "cell_type": "code",
   "execution_count": 13,
   "id": "removable-feeling",
   "metadata": {},
   "outputs": [
    {
     "data": {
      "text/plain": [
       "array(['nM'], dtype=object)"
      ]
     },
     "execution_count": 13,
     "metadata": {},
     "output_type": "execute_result"
    }
   ],
   "source": [
    "# filter by unit to keep only units that are convertible into nM\n",
    "activities['Standard Units'].unique()"
   ]
  },
  {
   "cell_type": "markdown",
   "id": "unusual-sharp",
   "metadata": {},
   "source": [
    "### Note:\n",
    "if you have other molar units, you should remove those entries, in order to keep only activites expressed in nM **FOR LOGISTICAL REASONS ONLY**. Other units are as valid as nM"
   ]
  },
  {
   "cell_type": "code",
   "execution_count": 14,
   "id": "spoken-rouge",
   "metadata": {},
   "outputs": [],
   "source": [
    "activities = activities[activities['Standard Units']==\"nM\"]"
   ]
  },
  {
   "cell_type": "markdown",
   "id": "4082b7aa",
   "metadata": {},
   "source": [
    "# Standardizar moléculas"
   ]
  },
  {
   "cell_type": "code",
   "execution_count": 15,
   "id": "brief-gossip",
   "metadata": {},
   "outputs": [],
   "source": [
    "def standardize_molecules(smiles_list):\n",
    "    unsalt = molvs.fragment.LargestFragmentChooser()\n",
    "    s = Standardizer()\n",
    "    u = molvs.charge.Uncharger()\n",
    "    t = molvs.tautomer.TautomerCanonicalizer()\n",
    "    std_smi = []\n",
    "    inchik = []\n",
    "    for smi in smiles_list:\n",
    "        m = Chem.MolFromSmiles(smi)\n",
    "        # step 1: sanitize, disconect metals, normalise chemotypes, reionise acids\n",
    "        m = s.standardize(m)\n",
    "        # step 2: disconect salts\n",
    "        m = unsalt(m)\n",
    "        # step 3: neutralise\n",
    "        m = u.uncharge(m)\n",
    "        # step 4: tautomer canolinaliser\n",
    "        # m = t.canonicalize(m)\n",
    "        inchik.append(Chem.MolToInchiKey(m))\n",
    "        std_smi.append(Chem.MolToSmiles(m))\n",
    "    return(inchik, std_smi)"
   ]
  },
  {
   "cell_type": "markdown",
   "id": "eed40bcc",
   "metadata": {},
   "source": [
    "### An example ..."
   ]
  },
  {
   "cell_type": "code",
   "execution_count": 16,
   "id": "62aec901",
   "metadata": {},
   "outputs": [
    {
     "data": {
      "image/png": "[encoded data removed]",
      "text/plain": [
       "<IPython.core.display.Image object>"
      ]
     },
     "execution_count": 16,
     "metadata": {},
     "output_type": "execute_result"
    }
   ],
   "source": [
    "# These 5 compounds are actually just 2. As they are now, it is impossible for me to identify them as duplicates\n",
    "# particularly on a large scale\n",
    "\n",
    "compounds = [\"c1ccccc1O\", \"c1cc(O)ccc1\", \"c1ccccc1[O-].[Na+]\", \"CNC(C)=O\", \"CN=C(C)O\"]\n",
    "\n",
    "mols = []\n",
    "for compound in compounds:\n",
    "    mols.append(Chem.MolFromSmiles(compound))\n",
    "    \n",
    "Draw.MolsToGridImage(mols)"
   ]
  },
  {
   "cell_type": "code",
   "execution_count": 17,
   "id": "aefb0cb0",
   "metadata": {},
   "outputs": [],
   "source": [
    "inchikey,std_mols = standardize_molecules(compounds)"
   ]
  },
  {
   "cell_type": "code",
   "execution_count": 18,
   "id": "0474b151",
   "metadata": {},
   "outputs": [
    {
     "data": {
      "image/png": "[encoded data removed]",
      "text/plain": [
       "<IPython.core.display.Image object>"
      ]
     },
     "execution_count": 18,
     "metadata": {},
     "output_type": "execute_result"
    }
   ],
   "source": [
    "mols = []\n",
    "for compound in std_mols:\n",
    "    mols.append(Chem.MolFromSmiles(compound))\n",
    "    \n",
    "Draw.MolsToGridImage(mols)"
   ]
  },
  {
   "cell_type": "code",
   "execution_count": 19,
   "id": "4499fd94",
   "metadata": {},
   "outputs": [
    {
     "data": {
      "text/plain": [
       "['ISWSIDIOOBJBQZ-UHFFFAOYSA-N',\n",
       " 'ISWSIDIOOBJBQZ-UHFFFAOYSA-N',\n",
       " 'ISWSIDIOOBJBQZ-UHFFFAOYSA-N',\n",
       " 'OHLUUHNLEMFGTQ-UHFFFAOYSA-N',\n",
       " 'OHLUUHNLEMFGTQ-UHFFFAOYSA-N']"
      ]
     },
     "execution_count": 19,
     "metadata": {},
     "output_type": "execute_result"
    }
   ],
   "source": [
    "inchikey"
   ]
  },
  {
   "cell_type": "markdown",
   "id": "3cce7a42",
   "metadata": {},
   "source": [
    "### Agora com os nossos dados"
   ]
  },
  {
   "cell_type": "code",
   "execution_count": 20,
   "id": "powerful-organizer",
   "metadata": {
    "scrolled": true
   },
   "outputs": [],
   "source": [
    "inchikeys,std_mols = standardize_molecules(activities[\"Smiles\"])\n",
    "\n",
    "# add the two columns to the dataset\n",
    "activities.loc[:,\"SMILES_std\"] = std_mols\n",
    "activities.loc[:,\"inchikeys\"] = inchikeys"
   ]
  },
  {
   "cell_type": "code",
   "execution_count": 21,
   "id": "southeast-carpet",
   "metadata": {},
   "outputs": [
    {
     "data": {
      "text/plain": [
       "((525,), (525,))"
      ]
     },
     "execution_count": 21,
     "metadata": {},
     "output_type": "execute_result"
    }
   ],
   "source": [
    "#inspect uniques\n",
    "np.unique(std_mols).shape, np.unique(inchikeys).shape"
   ]
  },
  {
   "cell_type": "code",
   "execution_count": 22,
   "id": "compatible-norman",
   "metadata": {},
   "outputs": [
    {
     "data": {
      "text/plain": [
       "Index(['Molecule ChEMBL ID', 'Molecule Name', 'Molecule Max Phase',\n",
       "       'Molecular Weight', '#RO5 Violations', 'AlogP', 'Compound Key',\n",
       "       'Smiles', 'Standard Type', 'Standard Relation', 'Standard Value',\n",
       "       'Standard Units', 'pChEMBL Value', 'Data Validity Comment', 'Comment',\n",
       "       'Uo Units', 'Ligand Efficiency BEI', 'Ligand Efficiency LE',\n",
       "       'Ligand Efficiency LLE', 'Ligand Efficiency SEI', 'Potential Duplicate',\n",
       "       'Assay ChEMBL ID', 'Assay Description', 'Assay Type', 'BAO Format ID',\n",
       "       'BAO Label', 'Assay Organism', 'Assay Tissue ChEMBL ID',\n",
       "       'Assay Tissue Name', 'Assay Cell Type', 'Assay Subcellular Fraction',\n",
       "       'Assay Parameters', 'Assay Variant Accession', 'Assay Variant Mutation',\n",
       "       'Target ChEMBL ID', 'Target Name', 'Target Organism', 'Target Type',\n",
       "       'Document ChEMBL ID', 'Source ID', 'Source Description',\n",
       "       'Document Journal', 'Document Year', 'Cell ChEMBL ID', 'Properties',\n",
       "       'Action Type', 'SMILES_std', 'inchikeys'],\n",
       "      dtype='object')"
      ]
     },
     "execution_count": 22,
     "metadata": {},
     "output_type": "execute_result"
    }
   ],
   "source": [
    "activities.columns"
   ]
  },
  {
   "cell_type": "code",
   "execution_count": 23,
   "id": "greater-heritage",
   "metadata": {},
   "outputs": [],
   "source": [
    "# Because my ultimate goal is to build a ML classifier, I need to binarise the output variable\n",
    "# As a result, having the sign \"<\" with values above my cutoff, or having the sign \">\" with values below my cutoff\n",
    "# makes no sense, so I should remove those\n",
    "\n",
    "activity_cutoff = 1000 # nM\n",
    "is_larger = np.in1d(activities['Standard Relation'], [\"'>'\", \"'>='\"]) \n",
    "is_smaller = np.in1d(activities['Standard Relation'], [\"'<'\", \"'<='\"])\n",
    "\n",
    "lines2remove = ~np.logical_and(is_larger, activities['Standard Value'] < activity_cutoff)\n",
    "activities=activities[lines2remove]\n",
    "\n",
    "lines2remove = ~np.logical_and(is_smaller, activities['Standard Value'] > activity_cutoff)\n",
    "activities=activities[lines2remove]"
   ]
  },
  {
   "cell_type": "code",
   "execution_count": 24,
   "id": "canadian-combat",
   "metadata": {},
   "outputs": [
    {
     "data": {
      "text/plain": [
       "(623, 48)"
      ]
     },
     "execution_count": 24,
     "metadata": {},
     "output_type": "execute_result"
    }
   ],
   "source": [
    "activities.shape"
   ]
  },
  {
   "cell_type": "code",
   "execution_count": 25,
   "id": "powered-training",
   "metadata": {},
   "outputs": [
    {
     "data": {
      "text/plain": [
       "(525, 48)"
      ]
     },
     "execution_count": 25,
     "metadata": {},
     "output_type": "execute_result"
    }
   ],
   "source": [
    "# Now that all lines are acceptable and comparable we can finally de-duplicate\n",
    "# As we saw in earlier labs, we should first order the compounds by most to least active\n",
    "# Because the drop_duplicates() function keeps the first by default\n",
    "activities = activities.sort_values('Standard Value', ascending=True).drop_duplicates(\"inchikeys\")\n",
    "activities.shape"
   ]
  },
  {
   "cell_type": "code",
   "execution_count": 26,
   "id": "8e10dfbf",
   "metadata": {},
   "outputs": [
    {
     "data": {
      "text/plain": [
       "['class1', 'class1', 'class1', 'class2', 'class2', 'class1', 'class1']"
      ]
     },
     "execution_count": 26,
     "metadata": {},
     "output_type": "execute_result"
    }
   ],
   "source": [
    "# An example on how splitting into classes works\n",
    "myclasses = pd.cut([1,2,3,7,10,5,4], [0,5,11], labels=[\"class1\", \"class2\"])\n",
    "myclasses = list(myclasses)\n",
    "myclasses"
   ]
  },
  {
   "cell_type": "code",
   "execution_count": 27,
   "id": "innovative-sterling",
   "metadata": {},
   "outputs": [],
   "source": [
    "# split compounds into 2 classes\n",
    "act_class = pd.cut(activities[\"Standard Value\"], [0,1000,activities[\"Standard Value\"].max()+1] ,labels = [\"active\", \"inactive\"])\n",
    "activities.loc[:,\"act_class\"] = list(act_class)"
   ]
  },
  {
   "cell_type": "code",
   "execution_count": 28,
   "id": "desirable-lodging",
   "metadata": {},
   "outputs": [
    {
     "data": {
      "text/html": [
       "<div>\n",
       "<style scoped>\n",
       "    .dataframe tbody tr th:only-of-type {\n",
       "        vertical-align: middle;\n",
       "    }\n",
       "\n",
       "    .dataframe tbody tr th {\n",
       "        vertical-align: top;\n",
       "    }\n",
       "\n",
       "    .dataframe thead th {\n",
       "        text-align: right;\n",
       "    }\n",
       "</style>\n",
       "<table border=\"1\" class=\"dataframe\">\n",
       "  <thead>\n",
       "    <tr style=\"text-align: right;\">\n",
       "      <th></th>\n",
       "      <th>Molecule ChEMBL ID</th>\n",
       "      <th>Molecule Name</th>\n",
       "      <th>Molecule Max Phase</th>\n",
       "      <th>Molecular Weight</th>\n",
       "      <th>#RO5 Violations</th>\n",
       "      <th>AlogP</th>\n",
       "      <th>Compound Key</th>\n",
       "      <th>Smiles</th>\n",
       "      <th>Standard Type</th>\n",
       "      <th>Standard Relation</th>\n",
       "      <th>...</th>\n",
       "      <th>Source ID</th>\n",
       "      <th>Source Description</th>\n",
       "      <th>Document Journal</th>\n",
       "      <th>Document Year</th>\n",
       "      <th>Cell ChEMBL ID</th>\n",
       "      <th>Properties</th>\n",
       "      <th>Action Type</th>\n",
       "      <th>SMILES_std</th>\n",
       "      <th>inchikeys</th>\n",
       "      <th>act_class</th>\n",
       "    </tr>\n",
       "  </thead>\n",
       "  <tbody>\n",
       "    <tr>\n",
       "      <th>583</th>\n",
       "      <td>CHEMBL443353</td>\n",
       "      <td>NaN</td>\n",
       "      <td>NaN</td>\n",
       "      <td>367.54</td>\n",
       "      <td>0.0</td>\n",
       "      <td>3.32</td>\n",
       "      <td>3c</td>\n",
       "      <td>C[C@H](CS)C(=O)N1[C@@H](SCCCc2ccccc2)CC[C@H]1C...</td>\n",
       "      <td>IC50</td>\n",
       "      <td>'='</td>\n",
       "      <td>...</td>\n",
       "      <td>1</td>\n",
       "      <td>Scientific Literature</td>\n",
       "      <td>Bioorg Med Chem Lett</td>\n",
       "      <td>2008</td>\n",
       "      <td>NaN</td>\n",
       "      <td>NaN</td>\n",
       "      <td>NaN</td>\n",
       "      <td>C[C@H](CS)C(=O)N1[C@@H](SCCCc2ccccc2)CC[C@H]1C...</td>\n",
       "      <td>CGPUJSIVRWHBDZ-KBMXLJTQSA-N</td>\n",
       "      <td>active</td>\n",
       "    </tr>\n",
       "    <tr>\n",
       "      <th>760</th>\n",
       "      <td>CHEMBL1237</td>\n",
       "      <td>LISINOPRIL</td>\n",
       "      <td>4.0</td>\n",
       "      <td>405.50</td>\n",
       "      <td>0.0</td>\n",
       "      <td>1.24</td>\n",
       "      <td>Lisinopril</td>\n",
       "      <td>NCCCC[C@H](N[C@@H](CCc1ccccc1)C(=O)O)C(=O)N1CC...</td>\n",
       "      <td>IC50</td>\n",
       "      <td>'='</td>\n",
       "      <td>...</td>\n",
       "      <td>1</td>\n",
       "      <td>Scientific Literature</td>\n",
       "      <td>J Med Chem</td>\n",
       "      <td>2003</td>\n",
       "      <td>NaN</td>\n",
       "      <td>NaN</td>\n",
       "      <td>NaN</td>\n",
       "      <td>NCCCC[C@H](N[C@@H](CCc1ccccc1)C(=O)O)C(=O)N1CC...</td>\n",
       "      <td>RLAWWYSOJDYHDC-BZSNNMDCSA-N</td>\n",
       "      <td>active</td>\n",
       "    </tr>\n",
       "    <tr>\n",
       "      <th>821</th>\n",
       "      <td>CHEMBL289556</td>\n",
       "      <td>OMAPATRILAT</td>\n",
       "      <td>-1.0</td>\n",
       "      <td>408.55</td>\n",
       "      <td>0.0</td>\n",
       "      <td>1.94</td>\n",
       "      <td>Omapatrilat</td>\n",
       "      <td>O=C(N[C@H]1CCS[C@H]2CCC[C@@H](C(=O)O)N2C1=O)[C...</td>\n",
       "      <td>IC50</td>\n",
       "      <td>'='</td>\n",
       "      <td>...</td>\n",
       "      <td>1</td>\n",
       "      <td>Scientific Literature</td>\n",
       "      <td>ACS Med Chem Lett</td>\n",
       "      <td>2019</td>\n",
       "      <td>NaN</td>\n",
       "      <td>NaN</td>\n",
       "      <td>NaN</td>\n",
       "      <td>O=C(N[C@H]1CCS[C@H]2CCC[C@@H](C(=O)O)N2C1=O)[C...</td>\n",
       "      <td>LVRLSYPNFFBYCZ-VGWMRTNUSA-N</td>\n",
       "      <td>active</td>\n",
       "    </tr>\n",
       "    <tr>\n",
       "      <th>416</th>\n",
       "      <td>CHEMBL198316</td>\n",
       "      <td>NaN</td>\n",
       "      <td>NaN</td>\n",
       "      <td>438.55</td>\n",
       "      <td>0.0</td>\n",
       "      <td>2.78</td>\n",
       "      <td>84</td>\n",
       "      <td>O=C(N[C@H]1Cc2ccccc2C2CCC[C@H](C(=O)O)N2C1=O)[...</td>\n",
       "      <td>IC50</td>\n",
       "      <td>'='</td>\n",
       "      <td>...</td>\n",
       "      <td>1</td>\n",
       "      <td>Scientific Literature</td>\n",
       "      <td>J Med Chem</td>\n",
       "      <td>2005</td>\n",
       "      <td>NaN</td>\n",
       "      <td>NaN</td>\n",
       "      <td>NaN</td>\n",
       "      <td>O=C(N[C@H]1Cc2ccccc2C2CCC[C@H](C(=O)O)N2C1=O)[...</td>\n",
       "      <td>RIWRWPXUDHZKIO-AJQVQDMVSA-N</td>\n",
       "      <td>active</td>\n",
       "    </tr>\n",
       "    <tr>\n",
       "      <th>625</th>\n",
       "      <td>CHEMBL1560</td>\n",
       "      <td>CAPTOPRIL</td>\n",
       "      <td>4.0</td>\n",
       "      <td>217.29</td>\n",
       "      <td>0.0</td>\n",
       "      <td>0.63</td>\n",
       "      <td>Captopril</td>\n",
       "      <td>C[C@H](CS)C(=O)N1CCC[C@H]1C(=O)O</td>\n",
       "      <td>IC50</td>\n",
       "      <td>'='</td>\n",
       "      <td>...</td>\n",
       "      <td>1</td>\n",
       "      <td>Scientific Literature</td>\n",
       "      <td>Bioorg Med Chem Lett</td>\n",
       "      <td>2009</td>\n",
       "      <td>NaN</td>\n",
       "      <td>NaN</td>\n",
       "      <td>NaN</td>\n",
       "      <td>C[C@H](CS)C(=O)N1CCC[C@H]1C(=O)O</td>\n",
       "      <td>FAKRSMQSSFJEIM-RQJHMYQMSA-N</td>\n",
       "      <td>active</td>\n",
       "    </tr>\n",
       "    <tr>\n",
       "      <th>...</th>\n",
       "      <td>...</td>\n",
       "      <td>...</td>\n",
       "      <td>...</td>\n",
       "      <td>...</td>\n",
       "      <td>...</td>\n",
       "      <td>...</td>\n",
       "      <td>...</td>\n",
       "      <td>...</td>\n",
       "      <td>...</td>\n",
       "      <td>...</td>\n",
       "      <td>...</td>\n",
       "      <td>...</td>\n",
       "      <td>...</td>\n",
       "      <td>...</td>\n",
       "      <td>...</td>\n",
       "      <td>...</td>\n",
       "      <td>...</td>\n",
       "      <td>...</td>\n",
       "      <td>...</td>\n",
       "      <td>...</td>\n",
       "      <td>...</td>\n",
       "    </tr>\n",
       "    <tr>\n",
       "      <th>386</th>\n",
       "      <td>CHEMBL90074</td>\n",
       "      <td>NaN</td>\n",
       "      <td>NaN</td>\n",
       "      <td>218.21</td>\n",
       "      <td>0.0</td>\n",
       "      <td>-1.23</td>\n",
       "      <td>EA</td>\n",
       "      <td>C[C@H](NC(=O)[C@@H](N)CCC(=O)O)C(=O)O</td>\n",
       "      <td>IC50</td>\n",
       "      <td>'='</td>\n",
       "      <td>...</td>\n",
       "      <td>1</td>\n",
       "      <td>Scientific Literature</td>\n",
       "      <td>J Med Chem</td>\n",
       "      <td>1995</td>\n",
       "      <td>NaN</td>\n",
       "      <td>NaN</td>\n",
       "      <td>NaN</td>\n",
       "      <td>C[C@H](NC(=O)[C@@H](N)CCC(=O)O)C(=O)O</td>\n",
       "      <td>JZDHUJAFXGNDSB-WHFBIAKZSA-N</td>\n",
       "      <td>inactive</td>\n",
       "    </tr>\n",
       "    <tr>\n",
       "      <th>24</th>\n",
       "      <td>CHEMBL421171</td>\n",
       "      <td>NaN</td>\n",
       "      <td>NaN</td>\n",
       "      <td>190.16</td>\n",
       "      <td>0.0</td>\n",
       "      <td>-2.01</td>\n",
       "      <td>DG</td>\n",
       "      <td>N[C@@H](CC(=O)O)C(=O)NCC(=O)O</td>\n",
       "      <td>IC50</td>\n",
       "      <td>'='</td>\n",
       "      <td>...</td>\n",
       "      <td>1</td>\n",
       "      <td>Scientific Literature</td>\n",
       "      <td>J Med Chem</td>\n",
       "      <td>1995</td>\n",
       "      <td>NaN</td>\n",
       "      <td>NaN</td>\n",
       "      <td>NaN</td>\n",
       "      <td>N[C@@H](CC(=O)O)C(=O)NCC(=O)O</td>\n",
       "      <td>JHFNSBBHKSZXKB-VKHMYHEASA-N</td>\n",
       "      <td>inactive</td>\n",
       "    </tr>\n",
       "    <tr>\n",
       "      <th>146</th>\n",
       "      <td>CHEMBL59426</td>\n",
       "      <td>NaN</td>\n",
       "      <td>NaN</td>\n",
       "      <td>172.18</td>\n",
       "      <td>0.0</td>\n",
       "      <td>-1.06</td>\n",
       "      <td>PG</td>\n",
       "      <td>O=C(O)CNC(=O)[C@@H]1CCCN1</td>\n",
       "      <td>IC50</td>\n",
       "      <td>'='</td>\n",
       "      <td>...</td>\n",
       "      <td>1</td>\n",
       "      <td>Scientific Literature</td>\n",
       "      <td>J Med Chem</td>\n",
       "      <td>1995</td>\n",
       "      <td>NaN</td>\n",
       "      <td>NaN</td>\n",
       "      <td>NaN</td>\n",
       "      <td>O=C(O)CNC(=O)[C@@H]1CCCN1</td>\n",
       "      <td>RNKSNIBMTUYWSH-YFKPBYRVSA-N</td>\n",
       "      <td>inactive</td>\n",
       "    </tr>\n",
       "    <tr>\n",
       "      <th>417</th>\n",
       "      <td>CHEMBL38405</td>\n",
       "      <td>NaN</td>\n",
       "      <td>NaN</td>\n",
       "      <td>253.32</td>\n",
       "      <td>0.0</td>\n",
       "      <td>1.12</td>\n",
       "      <td>29d</td>\n",
       "      <td>O=C(O)CC(=O)NC(CS)Cc1ccccc1</td>\n",
       "      <td>IC50</td>\n",
       "      <td>'='</td>\n",
       "      <td>...</td>\n",
       "      <td>1</td>\n",
       "      <td>Scientific Literature</td>\n",
       "      <td>J Med Chem</td>\n",
       "      <td>1997</td>\n",
       "      <td>NaN</td>\n",
       "      <td>NaN</td>\n",
       "      <td>NaN</td>\n",
       "      <td>O=C(O)CC(=O)NC(CS)Cc1ccccc1</td>\n",
       "      <td>REPVVNYZORKKPQ-UHFFFAOYSA-N</td>\n",
       "      <td>inactive</td>\n",
       "    </tr>\n",
       "    <tr>\n",
       "      <th>511</th>\n",
       "      <td>CHEMBL323051</td>\n",
       "      <td>NaN</td>\n",
       "      <td>NaN</td>\n",
       "      <td>203.26</td>\n",
       "      <td>0.0</td>\n",
       "      <td>0.38</td>\n",
       "      <td>30d</td>\n",
       "      <td>O=C(O)C1CCC(=O)N1CCCS</td>\n",
       "      <td>IC50</td>\n",
       "      <td>'='</td>\n",
       "      <td>...</td>\n",
       "      <td>1</td>\n",
       "      <td>Scientific Literature</td>\n",
       "      <td>J Med Chem</td>\n",
       "      <td>1997</td>\n",
       "      <td>NaN</td>\n",
       "      <td>NaN</td>\n",
       "      <td>NaN</td>\n",
       "      <td>O=C(O)C1CCC(=O)N1CCCS</td>\n",
       "      <td>SJCJKOQECKPGJR-UHFFFAOYSA-N</td>\n",
       "      <td>inactive</td>\n",
       "    </tr>\n",
       "  </tbody>\n",
       "</table>\n",
       "<p>525 rows × 49 columns</p>\n",
       "</div>"
      ],
      "text/plain": [
       "    Molecule ChEMBL ID Molecule Name  Molecule Max Phase  Molecular Weight  \\\n",
       "583       CHEMBL443353           NaN                 NaN            367.54   \n",
       "760         CHEMBL1237    LISINOPRIL                 4.0            405.50   \n",
       "821       CHEMBL289556   OMAPATRILAT                -1.0            408.55   \n",
       "416       CHEMBL198316           NaN                 NaN            438.55   \n",
       "625         CHEMBL1560     CAPTOPRIL                 4.0            217.29   \n",
       "..                 ...           ...                 ...               ...   \n",
       "386        CHEMBL90074           NaN                 NaN            218.21   \n",
       "24        CHEMBL421171           NaN                 NaN            190.16   \n",
       "146        CHEMBL59426           NaN                 NaN            172.18   \n",
       "417        CHEMBL38405           NaN                 NaN            253.32   \n",
       "511       CHEMBL323051           NaN                 NaN            203.26   \n",
       "\n",
       "     #RO5 Violations  AlogP Compound Key  \\\n",
       "583              0.0   3.32           3c   \n",
       "760              0.0   1.24   Lisinopril   \n",
       "821              0.0   1.94  Omapatrilat   \n",
       "416              0.0   2.78           84   \n",
       "625              0.0   0.63    Captopril   \n",
       "..               ...    ...          ...   \n",
       "386              0.0  -1.23           EA   \n",
       "24               0.0  -2.01           DG   \n",
       "146              0.0  -1.06           PG   \n",
       "417              0.0   1.12          29d   \n",
       "511              0.0   0.38          30d   \n",
       "\n",
       "                                                Smiles Standard Type  \\\n",
       "583  C[C@H](CS)C(=O)N1[C@@H](SCCCc2ccccc2)CC[C@H]1C...          IC50   \n",
       "760  NCCCC[C@H](N[C@@H](CCc1ccccc1)C(=O)O)C(=O)N1CC...          IC50   \n",
       "821  O=C(N[C@H]1CCS[C@H]2CCC[C@@H](C(=O)O)N2C1=O)[C...          IC50   \n",
       "416  O=C(N[C@H]1Cc2ccccc2C2CCC[C@H](C(=O)O)N2C1=O)[...          IC50   \n",
       "625                   C[C@H](CS)C(=O)N1CCC[C@H]1C(=O)O          IC50   \n",
       "..                                                 ...           ...   \n",
       "386              C[C@H](NC(=O)[C@@H](N)CCC(=O)O)C(=O)O          IC50   \n",
       "24                       N[C@@H](CC(=O)O)C(=O)NCC(=O)O          IC50   \n",
       "146                          O=C(O)CNC(=O)[C@@H]1CCCN1          IC50   \n",
       "417                        O=C(O)CC(=O)NC(CS)Cc1ccccc1          IC50   \n",
       "511                              O=C(O)C1CCC(=O)N1CCCS          IC50   \n",
       "\n",
       "    Standard Relation  ...  Source ID     Source Description  \\\n",
       "583               '='  ...          1  Scientific Literature   \n",
       "760               '='  ...          1  Scientific Literature   \n",
       "821               '='  ...          1  Scientific Literature   \n",
       "416               '='  ...          1  Scientific Literature   \n",
       "625               '='  ...          1  Scientific Literature   \n",
       "..                ...  ...        ...                    ...   \n",
       "386               '='  ...          1  Scientific Literature   \n",
       "24                '='  ...          1  Scientific Literature   \n",
       "146               '='  ...          1  Scientific Literature   \n",
       "417               '='  ...          1  Scientific Literature   \n",
       "511               '='  ...          1  Scientific Literature   \n",
       "\n",
       "         Document Journal Document Year Cell ChEMBL ID Properties  \\\n",
       "583  Bioorg Med Chem Lett          2008            NaN        NaN   \n",
       "760            J Med Chem          2003            NaN        NaN   \n",
       "821     ACS Med Chem Lett          2019            NaN        NaN   \n",
       "416            J Med Chem          2005            NaN        NaN   \n",
       "625  Bioorg Med Chem Lett          2009            NaN        NaN   \n",
       "..                    ...           ...            ...        ...   \n",
       "386            J Med Chem          1995            NaN        NaN   \n",
       "24             J Med Chem          1995            NaN        NaN   \n",
       "146            J Med Chem          1995            NaN        NaN   \n",
       "417            J Med Chem          1997            NaN        NaN   \n",
       "511            J Med Chem          1997            NaN        NaN   \n",
       "\n",
       "     Action Type                                         SMILES_std  \\\n",
       "583          NaN  C[C@H](CS)C(=O)N1[C@@H](SCCCc2ccccc2)CC[C@H]1C...   \n",
       "760          NaN  NCCCC[C@H](N[C@@H](CCc1ccccc1)C(=O)O)C(=O)N1CC...   \n",
       "821          NaN  O=C(N[C@H]1CCS[C@H]2CCC[C@@H](C(=O)O)N2C1=O)[C...   \n",
       "416          NaN  O=C(N[C@H]1Cc2ccccc2C2CCC[C@H](C(=O)O)N2C1=O)[...   \n",
       "625          NaN                   C[C@H](CS)C(=O)N1CCC[C@H]1C(=O)O   \n",
       "..           ...                                                ...   \n",
       "386          NaN              C[C@H](NC(=O)[C@@H](N)CCC(=O)O)C(=O)O   \n",
       "24           NaN                      N[C@@H](CC(=O)O)C(=O)NCC(=O)O   \n",
       "146          NaN                          O=C(O)CNC(=O)[C@@H]1CCCN1   \n",
       "417          NaN                        O=C(O)CC(=O)NC(CS)Cc1ccccc1   \n",
       "511          NaN                              O=C(O)C1CCC(=O)N1CCCS   \n",
       "\n",
       "                       inchikeys  act_class  \n",
       "583  CGPUJSIVRWHBDZ-KBMXLJTQSA-N     active  \n",
       "760  RLAWWYSOJDYHDC-BZSNNMDCSA-N     active  \n",
       "821  LVRLSYPNFFBYCZ-VGWMRTNUSA-N     active  \n",
       "416  RIWRWPXUDHZKIO-AJQVQDMVSA-N     active  \n",
       "625  FAKRSMQSSFJEIM-RQJHMYQMSA-N     active  \n",
       "..                           ...        ...  \n",
       "386  JZDHUJAFXGNDSB-WHFBIAKZSA-N   inactive  \n",
       "24   JHFNSBBHKSZXKB-VKHMYHEASA-N   inactive  \n",
       "146  RNKSNIBMTUYWSH-YFKPBYRVSA-N   inactive  \n",
       "417  REPVVNYZORKKPQ-UHFFFAOYSA-N   inactive  \n",
       "511  SJCJKOQECKPGJR-UHFFFAOYSA-N   inactive  \n",
       "\n",
       "[525 rows x 49 columns]"
      ]
     },
     "execution_count": 28,
     "metadata": {},
     "output_type": "execute_result"
    }
   ],
   "source": [
    "activities"
   ]
  },
  {
   "cell_type": "code",
   "execution_count": 29,
   "id": "polyphonic-republican",
   "metadata": {},
   "outputs": [],
   "source": [
    "activities[\"SMILES_std\"].to_csv(\"P12821_curated_dataset.csv\", sep=\"\\t\")"
   ]
  },
  {
   "cell_type": "markdown",
   "id": "c008e116",
   "metadata": {},
   "source": [
    "# ----------------------------------------"
   ]
  },
  {
   "cell_type": "markdown",
   "id": "53a62c22-f323-40e6-a97b-74cea3e2b7ed",
   "metadata": {},
   "source": [
    "### Q9NUW8"
   ]
  },
  {
   "cell_type": "code",
   "execution_count": 30,
   "id": "89b8229a-5291-4b44-a88b-d0921812c89c",
   "metadata": {},
   "outputs": [
    {
     "data": {
      "text/plain": [
       "((632, 46), (99, 31))"
      ]
     },
     "execution_count": 30,
     "metadata": {},
     "output_type": "execute_result"
    }
   ],
   "source": [
    "#Reading each file\n",
    "\n",
    "activities = pd.read_csv(\"LigandsChEMBL_IC50_Uniprot_Q9NUW8_PDB_1MU7_PmaxHighest.csv\", sep=\";\")\n",
    "\n",
    "assays = pd.read_csv(\"AssaysChEMBL_Uniprot_Q9NUW8_PDB_1MU7_PmaxHighest.csv\", sep=\";\")\n",
    "\n",
    "activities.shape, assays.shape"
   ]
  },
  {
   "cell_type": "code",
   "execution_count": 31,
   "id": "d0f41658-8db0-418c-a8c4-77d7d4e2e1fe",
   "metadata": {},
   "outputs": [],
   "source": [
    "assays.columns\n",
    "#Only Assays with a ChEMBL ID will be accepted\n",
    "\n",
    "accepted_assays = assays[\"ChEMBL ID\"]"
   ]
  },
  {
   "cell_type": "code",
   "execution_count": 32,
   "id": "ddcc9605-e7c8-4e0b-88da-4389eaf95a8b",
   "metadata": {},
   "outputs": [
    {
     "data": {
      "text/plain": [
       "(632, 46)"
      ]
     },
     "execution_count": 32,
     "metadata": {},
     "output_type": "execute_result"
    }
   ],
   "source": [
    "#Only rows from \"activities\" whose ChEMBL ID is present in \"accepted_assays\" will be accepted \n",
    "\n",
    "accepted_rows_where = np.in1d(activities['Assay ChEMBL ID'], accepted_assays)\n",
    "activities = activities[accepted_rows_where]\n",
    "activities.shape"
   ]
  },
  {
   "cell_type": "code",
   "execution_count": 33,
   "id": "d593ed8b-1a29-48bf-81d6-319cf3715981",
   "metadata": {},
   "outputs": [
    {
     "name": "stdout",
     "output_type": "stream",
     "text": [
      "632 accepted bioactivies\n"
     ]
    }
   ],
   "source": [
    "print(sum(accepted_rows_where), \"accepted bioactivies\")"
   ]
  },
  {
   "cell_type": "code",
   "execution_count": 34,
   "id": "da42c9e0-762d-4de0-be14-3e66467637a7",
   "metadata": {},
   "outputs": [
    {
     "name": "stdout",
     "output_type": "stream",
     "text": [
      "1 removed lines\n"
     ]
    }
   ],
   "source": [
    "# Are all smiles valid? if not we need to remove the invalid entries\n",
    "if activities[\"Smiles\"].notnull().all() == False:\n",
    "    valid_smiles = activities[\"Smiles\"].notnull()\n",
    "    print(sum(~valid_smiles), \"removed lines\")\n",
    "    activities = activities[valid_smiles]"
   ]
  },
  {
   "cell_type": "code",
   "execution_count": 35,
   "id": "82e67062-40c9-42bf-a106-9921af91f9d4",
   "metadata": {},
   "outputs": [
    {
     "name": "stdout",
     "output_type": "stream",
     "text": [
      "0 removed lines\n"
     ]
    }
   ],
   "source": [
    "# See if RDKit can understand all SMILES\n",
    "valid_smiles=[]\n",
    "\n",
    "for smi in activities[\"Smiles\"]:\n",
    "    try:\n",
    "        mol = Chem.MolFromSmiles(smi)\n",
    "        fp = AllChem.GetMorganFingerprintAsBitVect(mol,2,nBits=1024)\n",
    "        valid_smiles.append(True)\n",
    "    except:\n",
    "        valid_smiles.append(False)\n",
    "\n",
    "valid_smiles = np.array(valid_smiles)\n",
    "print(sum(~valid_smiles), \"removed lines\")\n",
    "activities = activities[valid_smiles]"
   ]
  },
  {
   "cell_type": "code",
   "execution_count": 36,
   "id": "a1deeae1-4ad0-43b2-9889-7b98839cf26b",
   "metadata": {},
   "outputs": [
    {
     "data": {
      "text/plain": [
       "array(['IC50'], dtype=object)"
      ]
     },
     "execution_count": 36,
     "metadata": {},
     "output_type": "execute_result"
    }
   ],
   "source": [
    "# Next I could standardise the molecules but, because this is an expensive step, I will try to narrow down the\n",
    "# dataset via activity types filtration\n",
    "activities['Standard Type'].unique()"
   ]
  },
  {
   "cell_type": "code",
   "execution_count": 37,
   "id": "c8e7d79b-520c-44cc-b7b6-5654e988d39b",
   "metadata": {},
   "outputs": [
    {
     "data": {
      "text/plain": [
       "(631, 46)"
      ]
     },
     "execution_count": 37,
     "metadata": {},
     "output_type": "execute_result"
    }
   ],
   "source": [
    "# I will only use IC50 and Ki as I am interested in inhibitors\n",
    "accept_rows = np.in1d(activities['Standard Type'], ['IC50'])\n",
    "activities = activities[accept_rows]\n",
    "activities.shape"
   ]
  },
  {
   "cell_type": "code",
   "execution_count": 38,
   "id": "c9d56cb8-ef28-48a4-8d8c-219df4c6a7c7",
   "metadata": {},
   "outputs": [
    {
     "data": {
      "text/plain": [
       "array([\"'>'\", \"'='\", nan], dtype=object)"
      ]
     },
     "execution_count": 38,
     "metadata": {},
     "output_type": "execute_result"
    }
   ],
   "source": [
    "# Next I can filter out line with not mathematical relationship \n",
    "# One entry could be IC50 < 100 or IC50 > 100, we don't know...\n",
    "activities['Standard Relation'].unique()"
   ]
  },
  {
   "cell_type": "code",
   "execution_count": 39,
   "id": "af01d364-bcc1-4018-b30b-e384bf9d6e82",
   "metadata": {},
   "outputs": [
    {
     "data": {
      "text/plain": [
       "(406, 46)"
      ]
     },
     "execution_count": 39,
     "metadata": {},
     "output_type": "execute_result"
    }
   ],
   "source": [
    "#Only with equals\n",
    "\n",
    "accept_rows = np.in1d(activities['Standard Relation'], [\"'='\"])\n",
    "activities = activities[accept_rows]\n",
    "activities.shape"
   ]
  },
  {
   "cell_type": "code",
   "execution_count": 40,
   "id": "6721e7d6-2f16-41c7-b283-2f330246d4e6",
   "metadata": {},
   "outputs": [
    {
     "data": {
      "text/plain": [
       "array(['nM'], dtype=object)"
      ]
     },
     "execution_count": 40,
     "metadata": {},
     "output_type": "execute_result"
    }
   ],
   "source": [
    "# filter by unit to keep only units that are convertible into nM\n",
    "activities['Standard Units'].unique()"
   ]
  },
  {
   "cell_type": "code",
   "execution_count": 41,
   "id": "eb554b0b-d137-4b5f-8b2d-cc86f4e4e81c",
   "metadata": {},
   "outputs": [],
   "source": [
    "activities = activities[activities['Standard Units']==\"nM\"]"
   ]
  },
  {
   "cell_type": "code",
   "execution_count": 42,
   "id": "52cb8077-7014-4a33-be9a-2910872ea865",
   "metadata": {},
   "outputs": [],
   "source": [
    "def standardize_molecules(smiles_list):\n",
    "    unsalt = molvs.fragment.LargestFragmentChooser()\n",
    "    s = Standardizer()\n",
    "    u = molvs.charge.Uncharger()\n",
    "    t = molvs.tautomer.TautomerCanonicalizer()\n",
    "    std_smi = []\n",
    "    inchik = []\n",
    "    for smi in smiles_list:\n",
    "        m = Chem.MolFromSmiles(smi)\n",
    "        # step 1: sanitize, disconect metals, normalise chemotypes, reionise acids\n",
    "        m = s.standardize(m)\n",
    "        # step 2: disconect salts\n",
    "        m = unsalt(m)\n",
    "        # step 3: neutralise\n",
    "        m = u.uncharge(m)\n",
    "        # step 4: tautomer canolinaliser\n",
    "        # m = t.canonicalize(m)\n",
    "        inchik.append(Chem.MolToInchiKey(m))\n",
    "        std_smi.append(Chem.MolToSmiles(m))\n",
    "    return(inchik, std_smi)"
   ]
  },
  {
   "cell_type": "code",
   "execution_count": 43,
   "id": "28c3414d-e7f0-4813-8236-b528fc7ef645",
   "metadata": {},
   "outputs": [],
   "source": [
    "inchikeys,std_mols = standardize_molecules(activities[\"Smiles\"])\n",
    "\n",
    "# add the two columns to the dataset\n",
    "activities.loc[:,\"SMILES_std\"] = std_mols\n",
    "activities.loc[:,\"inchikeys\"] = inchikeys"
   ]
  },
  {
   "cell_type": "code",
   "execution_count": 44,
   "id": "f8e06df5-1082-4803-b97c-1692b8c070ff",
   "metadata": {},
   "outputs": [
    {
     "data": {
      "text/plain": [
       "((312,), (312,))"
      ]
     },
     "execution_count": 44,
     "metadata": {},
     "output_type": "execute_result"
    }
   ],
   "source": [
    "#inspect uniques\n",
    "np.unique(std_mols).shape, np.unique(inchikeys).shape"
   ]
  },
  {
   "cell_type": "code",
   "execution_count": 45,
   "id": "eaec32b8-bf6e-492c-bfec-93a971b623c8",
   "metadata": {},
   "outputs": [
    {
     "data": {
      "text/plain": [
       "Index(['Molecule ChEMBL ID', 'Molecule Name', 'Molecule Max Phase',\n",
       "       'Molecular Weight', '#RO5 Violations', 'AlogP', 'Compound Key',\n",
       "       'Smiles', 'Standard Type', 'Standard Relation', 'Standard Value',\n",
       "       'Standard Units', 'pChEMBL Value', 'Data Validity Comment', 'Comment',\n",
       "       'Uo Units', 'Ligand Efficiency BEI', 'Ligand Efficiency LE',\n",
       "       'Ligand Efficiency LLE', 'Ligand Efficiency SEI', 'Potential Duplicate',\n",
       "       'Assay ChEMBL ID', 'Assay Description', 'Assay Type', 'BAO Format ID',\n",
       "       'BAO Label', 'Assay Organism', 'Assay Tissue ChEMBL ID',\n",
       "       'Assay Tissue Name', 'Assay Cell Type', 'Assay Subcellular Fraction',\n",
       "       'Assay Parameters', 'Assay Variant Accession', 'Assay Variant Mutation',\n",
       "       'Target ChEMBL ID', 'Target Name', 'Target Organism', 'Target Type',\n",
       "       'Document ChEMBL ID', 'Source ID', 'Source Description',\n",
       "       'Document Journal', 'Document Year', 'Cell ChEMBL ID', 'Properties',\n",
       "       'Action Type', 'SMILES_std', 'inchikeys'],\n",
       "      dtype='object')"
      ]
     },
     "execution_count": 45,
     "metadata": {},
     "output_type": "execute_result"
    }
   ],
   "source": [
    "activities.columns"
   ]
  },
  {
   "cell_type": "code",
   "execution_count": 46,
   "id": "9f1b71d1-4b7e-42e4-88d6-d9be7a1ea40c",
   "metadata": {},
   "outputs": [],
   "source": [
    "# Because my ultimate goal is to build a ML classifier, I need to binarise the output variable\n",
    "# As a result, having the sign \"<\" with values above my cutoff, or having the sign \">\" with values below my cutoff\n",
    "# makes no sense, so I should remove those\n",
    "\n",
    "activity_cutoff = 1000 # nM\n",
    "is_larger = np.in1d(activities['Standard Relation'], [\"'>'\", \"'>='\"]) \n",
    "is_smaller = np.in1d(activities['Standard Relation'], [\"'<'\", \"'<='\"])\n",
    "\n",
    "lines2remove = ~np.logical_and(is_larger, activities['Standard Value'] < activity_cutoff)\n",
    "activities=activities[lines2remove]\n",
    "\n",
    "lines2remove = ~np.logical_and(is_smaller, activities['Standard Value'] > activity_cutoff)\n",
    "activities=activities[lines2remove]"
   ]
  },
  {
   "cell_type": "code",
   "execution_count": 47,
   "id": "cde20fcb-a05f-43fb-b812-baf3c3058530",
   "metadata": {},
   "outputs": [
    {
     "data": {
      "text/plain": [
       "(406, 48)"
      ]
     },
     "execution_count": 47,
     "metadata": {},
     "output_type": "execute_result"
    }
   ],
   "source": [
    "activities.shape"
   ]
  },
  {
   "cell_type": "code",
   "execution_count": 48,
   "id": "5597cd52-a6ba-4792-a3c2-915212f534bb",
   "metadata": {},
   "outputs": [
    {
     "data": {
      "text/plain": [
       "(312, 48)"
      ]
     },
     "execution_count": 48,
     "metadata": {},
     "output_type": "execute_result"
    }
   ],
   "source": [
    "# Now that all lines are acceptable and comparable we can finally de-duplicate\n",
    "# As we saw in earlier labs, we should first order the compounds by most to least active\n",
    "# Because the drop_duplicates() function keeps the first by default\n",
    "activities = activities.sort_values('Standard Value', ascending=True).drop_duplicates(\"inchikeys\")\n",
    "activities.shape"
   ]
  },
  {
   "cell_type": "code",
   "execution_count": 49,
   "id": "c4389d36-5bd0-418b-906d-e6ca9652bb6a",
   "metadata": {},
   "outputs": [
    {
     "data": {
      "text/plain": [
       "['class1', 'class1', 'class1', 'class2', 'class2', 'class1', 'class1']"
      ]
     },
     "execution_count": 49,
     "metadata": {},
     "output_type": "execute_result"
    }
   ],
   "source": [
    "# An example on how splitting into classes works\n",
    "myclasses = pd.cut([1,2,3,7,10,5,4], [0,5,11], labels=[\"class1\", \"class2\"])\n",
    "myclasses = list(myclasses)\n",
    "myclasses"
   ]
  },
  {
   "cell_type": "code",
   "execution_count": 50,
   "id": "3a1fa403-dfdc-4cfe-abe2-b8979dbbe8e5",
   "metadata": {},
   "outputs": [],
   "source": [
    "# split compounds into 2 classes\n",
    "act_class = pd.cut(activities[\"Standard Value\"], [0,1000,activities[\"Standard Value\"].max()+1] ,labels = [\"active\", \"inactive\"])\n",
    "activities.loc[:,\"act_class\"] = list(act_class)"
   ]
  },
  {
   "cell_type": "code",
   "execution_count": 51,
   "id": "44c0be50-7437-4fbb-a5e6-7242d743b0f9",
   "metadata": {},
   "outputs": [
    {
     "data": {
      "text/html": [
       "<div>\n",
       "<style scoped>\n",
       "    .dataframe tbody tr th:only-of-type {\n",
       "        vertical-align: middle;\n",
       "    }\n",
       "\n",
       "    .dataframe tbody tr th {\n",
       "        vertical-align: top;\n",
       "    }\n",
       "\n",
       "    .dataframe thead th {\n",
       "        text-align: right;\n",
       "    }\n",
       "</style>\n",
       "<table border=\"1\" class=\"dataframe\">\n",
       "  <thead>\n",
       "    <tr style=\"text-align: right;\">\n",
       "      <th></th>\n",
       "      <th>Molecule ChEMBL ID</th>\n",
       "      <th>Molecule Name</th>\n",
       "      <th>Molecule Max Phase</th>\n",
       "      <th>Molecular Weight</th>\n",
       "      <th>#RO5 Violations</th>\n",
       "      <th>AlogP</th>\n",
       "      <th>Compound Key</th>\n",
       "      <th>Smiles</th>\n",
       "      <th>Standard Type</th>\n",
       "      <th>Standard Relation</th>\n",
       "      <th>...</th>\n",
       "      <th>Source ID</th>\n",
       "      <th>Source Description</th>\n",
       "      <th>Document Journal</th>\n",
       "      <th>Document Year</th>\n",
       "      <th>Cell ChEMBL ID</th>\n",
       "      <th>Properties</th>\n",
       "      <th>Action Type</th>\n",
       "      <th>SMILES_std</th>\n",
       "      <th>inchikeys</th>\n",
       "      <th>act_class</th>\n",
       "    </tr>\n",
       "  </thead>\n",
       "  <tbody>\n",
       "    <tr>\n",
       "      <th>90</th>\n",
       "      <td>CHEMBL65</td>\n",
       "      <td>CAMPTOTHECIN</td>\n",
       "      <td>-1.0</td>\n",
       "      <td>348.36</td>\n",
       "      <td>0.0</td>\n",
       "      <td>2.08</td>\n",
       "      <td>1</td>\n",
       "      <td>CC[C@@]1(O)C(=O)OCc2c1cc1n(c2=O)Cc2cc3ccccc3nc2-1</td>\n",
       "      <td>IC50</td>\n",
       "      <td>'='</td>\n",
       "      <td>...</td>\n",
       "      <td>1</td>\n",
       "      <td>Scientific Literature</td>\n",
       "      <td>J Med Chem</td>\n",
       "      <td>2017</td>\n",
       "      <td>NaN</td>\n",
       "      <td>NaN</td>\n",
       "      <td>NaN</td>\n",
       "      <td>CC[C@@]1(O)C(=O)OCc2c1cc1n(c2=O)Cc2cc3ccccc3nc2-1</td>\n",
       "      <td>VSJKWCGYPAHWDS-FQEVSTJZSA-N</td>\n",
       "      <td>NaN</td>\n",
       "    </tr>\n",
       "    <tr>\n",
       "      <th>268</th>\n",
       "      <td>CHEMBL4464463</td>\n",
       "      <td>NaN</td>\n",
       "      <td>NaN</td>\n",
       "      <td>609.68</td>\n",
       "      <td>1.0</td>\n",
       "      <td>3.26</td>\n",
       "      <td>42; NF-SDM</td>\n",
       "      <td>CCn1cc(C(=O)O)c(=O)c2cc(F)c(N3CCN(CNc4ccc(S(=O...</td>\n",
       "      <td>IC50</td>\n",
       "      <td>'='</td>\n",
       "      <td>...</td>\n",
       "      <td>1</td>\n",
       "      <td>Scientific Literature</td>\n",
       "      <td>Bioorg Med Chem</td>\n",
       "      <td>2016</td>\n",
       "      <td>NaN</td>\n",
       "      <td>NaN</td>\n",
       "      <td>NaN</td>\n",
       "      <td>CCn1cc(C(=O)O)c(=O)c2cc(F)c(N3CCN(CNc4ccc(S(=O...</td>\n",
       "      <td>RUBMSPWXSHZTRU-UHFFFAOYSA-N</td>\n",
       "      <td>active</td>\n",
       "    </tr>\n",
       "    <tr>\n",
       "      <th>502</th>\n",
       "      <td>CHEMBL4746230</td>\n",
       "      <td>NaN</td>\n",
       "      <td>NaN</td>\n",
       "      <td>507.61</td>\n",
       "      <td>2.0</td>\n",
       "      <td>6.20</td>\n",
       "      <td>9a</td>\n",
       "      <td>CC(=O)C1=C(O)C=C2Oc3c(-c4csc(/C=C(\\C)CCC=C(C)C...</td>\n",
       "      <td>IC50</td>\n",
       "      <td>'='</td>\n",
       "      <td>...</td>\n",
       "      <td>1</td>\n",
       "      <td>Scientific Literature</td>\n",
       "      <td>J Nat Prod</td>\n",
       "      <td>2020</td>\n",
       "      <td>NaN</td>\n",
       "      <td>NaN</td>\n",
       "      <td>INHIBITOR</td>\n",
       "      <td>CC(=O)C1=C(O)C=C2Oc3c(-c4csc(/C=C(\\C)CCC=C(C)C...</td>\n",
       "      <td>XYRHEOIBWUNZMZ-GGRWDMAWSA-N</td>\n",
       "      <td>active</td>\n",
       "    </tr>\n",
       "    <tr>\n",
       "      <th>431</th>\n",
       "      <td>CHEMBL275938</td>\n",
       "      <td>AURINTRICARBOXYLIC ACID</td>\n",
       "      <td>NaN</td>\n",
       "      <td>422.35</td>\n",
       "      <td>0.0</td>\n",
       "      <td>2.45</td>\n",
       "      <td>32</td>\n",
       "      <td>O=C(O)C1=CC(=C(c2ccc(O)c(C(=O)O)c2)c2ccc(O)c(C...</td>\n",
       "      <td>IC50</td>\n",
       "      <td>'='</td>\n",
       "      <td>...</td>\n",
       "      <td>1</td>\n",
       "      <td>Scientific Literature</td>\n",
       "      <td>Bioorg Med Chem</td>\n",
       "      <td>2016</td>\n",
       "      <td>NaN</td>\n",
       "      <td>NaN</td>\n",
       "      <td>NaN</td>\n",
       "      <td>O=C(O)C1=CC(=C(c2ccc(O)c(C(=O)O)c2)c2ccc(O)c(C...</td>\n",
       "      <td>GIXWDMTZECRIJT-UHFFFAOYSA-N</td>\n",
       "      <td>active</td>\n",
       "    </tr>\n",
       "    <tr>\n",
       "      <th>305</th>\n",
       "      <td>CHEMBL5187480</td>\n",
       "      <td>NaN</td>\n",
       "      <td>NaN</td>\n",
       "      <td>551.67</td>\n",
       "      <td>2.0</td>\n",
       "      <td>6.22</td>\n",
       "      <td>3b</td>\n",
       "      <td>CC(=O)C1=C(O)C=C2Oc3c(-c4csc(N/N=C/CC(C)CCC=C(...</td>\n",
       "      <td>IC50</td>\n",
       "      <td>'='</td>\n",
       "      <td>...</td>\n",
       "      <td>1</td>\n",
       "      <td>Scientific Literature</td>\n",
       "      <td>Bioorg Med Chem Lett</td>\n",
       "      <td>2022</td>\n",
       "      <td>NaN</td>\n",
       "      <td>NaN</td>\n",
       "      <td>INHIBITOR</td>\n",
       "      <td>CC(=O)C1=C(O)C=C2Oc3c(-c4csc(N/N=C/CC(C)CCC=C(...</td>\n",
       "      <td>QBQXWRMQBGVMLB-ZJZGQBIDSA-N</td>\n",
       "      <td>active</td>\n",
       "    </tr>\n",
       "    <tr>\n",
       "      <th>...</th>\n",
       "      <td>...</td>\n",
       "      <td>...</td>\n",
       "      <td>...</td>\n",
       "      <td>...</td>\n",
       "      <td>...</td>\n",
       "      <td>...</td>\n",
       "      <td>...</td>\n",
       "      <td>...</td>\n",
       "      <td>...</td>\n",
       "      <td>...</td>\n",
       "      <td>...</td>\n",
       "      <td>...</td>\n",
       "      <td>...</td>\n",
       "      <td>...</td>\n",
       "      <td>...</td>\n",
       "      <td>...</td>\n",
       "      <td>...</td>\n",
       "      <td>...</td>\n",
       "      <td>...</td>\n",
       "      <td>...</td>\n",
       "      <td>...</td>\n",
       "    </tr>\n",
       "    <tr>\n",
       "      <th>263</th>\n",
       "      <td>CHEMBL184618</td>\n",
       "      <td>FRAMYCETIN</td>\n",
       "      <td>3.0</td>\n",
       "      <td>614.65</td>\n",
       "      <td>3.0</td>\n",
       "      <td>-8.90</td>\n",
       "      <td>Neomycin B</td>\n",
       "      <td>NC[C@@H]1O[C@H](O[C@H]2[C@@H](O)[C@H](O[C@@H]3...</td>\n",
       "      <td>IC50</td>\n",
       "      <td>'='</td>\n",
       "      <td>...</td>\n",
       "      <td>1</td>\n",
       "      <td>Scientific Literature</td>\n",
       "      <td>J Med Chem</td>\n",
       "      <td>2012</td>\n",
       "      <td>NaN</td>\n",
       "      <td>NaN</td>\n",
       "      <td>NaN</td>\n",
       "      <td>NC[C@@H]1O[C@H](O[C@H]2[C@@H](O)[C@H](O[C@@H]3...</td>\n",
       "      <td>PGBHMTALBVVCIT-VCIWKGPPSA-N</td>\n",
       "      <td>inactive</td>\n",
       "    </tr>\n",
       "    <tr>\n",
       "      <th>269</th>\n",
       "      <td>CHEMBL3184512</td>\n",
       "      <td>CLINDAMYCIN PHOSPHATE</td>\n",
       "      <td>4.0</td>\n",
       "      <td>504.97</td>\n",
       "      <td>1.0</td>\n",
       "      <td>0.51</td>\n",
       "      <td>Clindamycin 2-phosphate</td>\n",
       "      <td>CCC[C@@H]1C[C@@H](C(=O)N[C@@H]([C@H]2O[C@H](SC...</td>\n",
       "      <td>IC50</td>\n",
       "      <td>'='</td>\n",
       "      <td>...</td>\n",
       "      <td>1</td>\n",
       "      <td>Scientific Literature</td>\n",
       "      <td>Bioorg Med Chem</td>\n",
       "      <td>2016</td>\n",
       "      <td>NaN</td>\n",
       "      <td>NaN</td>\n",
       "      <td>NaN</td>\n",
       "      <td>CCC[C@@H]1C[C@@H](C(=O)N[C@@H]([C@H]2O[C@H](SC...</td>\n",
       "      <td>UFUVLHLTWXBHGZ-MGZQPHGTSA-N</td>\n",
       "      <td>inactive</td>\n",
       "    </tr>\n",
       "    <tr>\n",
       "      <th>418</th>\n",
       "      <td>CHEMBL469912</td>\n",
       "      <td>PUROMYCIN</td>\n",
       "      <td>-1.0</td>\n",
       "      <td>471.52</td>\n",
       "      <td>1.0</td>\n",
       "      <td>-0.79</td>\n",
       "      <td>Puromycin</td>\n",
       "      <td>COc1ccc(C[C@H](N)C(=O)N[C@H]2[C@@H](O)[C@H](n3...</td>\n",
       "      <td>IC50</td>\n",
       "      <td>'='</td>\n",
       "      <td>...</td>\n",
       "      <td>1</td>\n",
       "      <td>Scientific Literature</td>\n",
       "      <td>Bioorg Med Chem</td>\n",
       "      <td>2016</td>\n",
       "      <td>NaN</td>\n",
       "      <td>NaN</td>\n",
       "      <td>NaN</td>\n",
       "      <td>COc1ccc(C[C@H](N)C(=O)N[C@H]2[C@@H](O)[C@H](n3...</td>\n",
       "      <td>RXWNCPJZOCPEPQ-NVWDDTSBSA-N</td>\n",
       "      <td>inactive</td>\n",
       "    </tr>\n",
       "    <tr>\n",
       "      <th>209</th>\n",
       "      <td>CHEMBL370143</td>\n",
       "      <td>PAROMOMYCIN</td>\n",
       "      <td>4.0</td>\n",
       "      <td>615.63</td>\n",
       "      <td>3.0</td>\n",
       "      <td>-8.86</td>\n",
       "      <td>24</td>\n",
       "      <td>NC[C@@H]1O[C@H](O[C@H]2[C@@H](O)[C@H](O[C@@H]3...</td>\n",
       "      <td>IC50</td>\n",
       "      <td>'='</td>\n",
       "      <td>...</td>\n",
       "      <td>1</td>\n",
       "      <td>Scientific Literature</td>\n",
       "      <td>Bioorg Med Chem</td>\n",
       "      <td>2016</td>\n",
       "      <td>NaN</td>\n",
       "      <td>NaN</td>\n",
       "      <td>NaN</td>\n",
       "      <td>NC[C@@H]1O[C@H](O[C@H]2[C@@H](O)[C@H](O[C@@H]3...</td>\n",
       "      <td>UOZODPSAJZTQNH-LSWIJEOBSA-N</td>\n",
       "      <td>inactive</td>\n",
       "    </tr>\n",
       "    <tr>\n",
       "      <th>204</th>\n",
       "      <td>CHEMBL389029</td>\n",
       "      <td>LIVIDOMYCIN</td>\n",
       "      <td>-1.0</td>\n",
       "      <td>761.78</td>\n",
       "      <td>3.0</td>\n",
       "      <td>-10.01</td>\n",
       "      <td>25</td>\n",
       "      <td>NC[C@@H]1O[C@H](O[C@H]2[C@@H](O)[C@H](O[C@@H]3...</td>\n",
       "      <td>IC50</td>\n",
       "      <td>'='</td>\n",
       "      <td>...</td>\n",
       "      <td>1</td>\n",
       "      <td>Scientific Literature</td>\n",
       "      <td>Bioorg Med Chem</td>\n",
       "      <td>2016</td>\n",
       "      <td>NaN</td>\n",
       "      <td>NaN</td>\n",
       "      <td>NaN</td>\n",
       "      <td>NC[C@@H]1O[C@H](O[C@H]2[C@@H](O)[C@H](O[C@@H]3...</td>\n",
       "      <td>DBLVDAUGBTYDFR-SWMBIRFSSA-N</td>\n",
       "      <td>inactive</td>\n",
       "    </tr>\n",
       "  </tbody>\n",
       "</table>\n",
       "<p>312 rows × 49 columns</p>\n",
       "</div>"
      ],
      "text/plain": [
       "    Molecule ChEMBL ID            Molecule Name  Molecule Max Phase  \\\n",
       "90            CHEMBL65             CAMPTOTHECIN                -1.0   \n",
       "268      CHEMBL4464463                      NaN                 NaN   \n",
       "502      CHEMBL4746230                      NaN                 NaN   \n",
       "431       CHEMBL275938  AURINTRICARBOXYLIC ACID                 NaN   \n",
       "305      CHEMBL5187480                      NaN                 NaN   \n",
       "..                 ...                      ...                 ...   \n",
       "263       CHEMBL184618               FRAMYCETIN                 3.0   \n",
       "269      CHEMBL3184512    CLINDAMYCIN PHOSPHATE                 4.0   \n",
       "418       CHEMBL469912                PUROMYCIN                -1.0   \n",
       "209       CHEMBL370143              PAROMOMYCIN                 4.0   \n",
       "204       CHEMBL389029              LIVIDOMYCIN                -1.0   \n",
       "\n",
       "     Molecular Weight  #RO5 Violations  AlogP             Compound Key  \\\n",
       "90             348.36              0.0   2.08                        1   \n",
       "268            609.68              1.0   3.26               42; NF-SDM   \n",
       "502            507.61              2.0   6.20                       9a   \n",
       "431            422.35              0.0   2.45                       32   \n",
       "305            551.67              2.0   6.22                       3b   \n",
       "..                ...              ...    ...                      ...   \n",
       "263            614.65              3.0  -8.90               Neomycin B   \n",
       "269            504.97              1.0   0.51  Clindamycin 2-phosphate   \n",
       "418            471.52              1.0  -0.79                Puromycin   \n",
       "209            615.63              3.0  -8.86                       24   \n",
       "204            761.78              3.0 -10.01                       25   \n",
       "\n",
       "                                                Smiles Standard Type  \\\n",
       "90   CC[C@@]1(O)C(=O)OCc2c1cc1n(c2=O)Cc2cc3ccccc3nc2-1          IC50   \n",
       "268  CCn1cc(C(=O)O)c(=O)c2cc(F)c(N3CCN(CNc4ccc(S(=O...          IC50   \n",
       "502  CC(=O)C1=C(O)C=C2Oc3c(-c4csc(/C=C(\\C)CCC=C(C)C...          IC50   \n",
       "431  O=C(O)C1=CC(=C(c2ccc(O)c(C(=O)O)c2)c2ccc(O)c(C...          IC50   \n",
       "305  CC(=O)C1=C(O)C=C2Oc3c(-c4csc(N/N=C/CC(C)CCC=C(...          IC50   \n",
       "..                                                 ...           ...   \n",
       "263  NC[C@@H]1O[C@H](O[C@H]2[C@@H](O)[C@H](O[C@@H]3...          IC50   \n",
       "269  CCC[C@@H]1C[C@@H](C(=O)N[C@@H]([C@H]2O[C@H](SC...          IC50   \n",
       "418  COc1ccc(C[C@H](N)C(=O)N[C@H]2[C@@H](O)[C@H](n3...          IC50   \n",
       "209  NC[C@@H]1O[C@H](O[C@H]2[C@@H](O)[C@H](O[C@@H]3...          IC50   \n",
       "204  NC[C@@H]1O[C@H](O[C@H]2[C@@H](O)[C@H](O[C@@H]3...          IC50   \n",
       "\n",
       "    Standard Relation  ...  Source ID     Source Description  \\\n",
       "90                '='  ...          1  Scientific Literature   \n",
       "268               '='  ...          1  Scientific Literature   \n",
       "502               '='  ...          1  Scientific Literature   \n",
       "431               '='  ...          1  Scientific Literature   \n",
       "305               '='  ...          1  Scientific Literature   \n",
       "..                ...  ...        ...                    ...   \n",
       "263               '='  ...          1  Scientific Literature   \n",
       "269               '='  ...          1  Scientific Literature   \n",
       "418               '='  ...          1  Scientific Literature   \n",
       "209               '='  ...          1  Scientific Literature   \n",
       "204               '='  ...          1  Scientific Literature   \n",
       "\n",
       "         Document Journal Document Year Cell ChEMBL ID Properties  \\\n",
       "90             J Med Chem          2017            NaN        NaN   \n",
       "268       Bioorg Med Chem          2016            NaN        NaN   \n",
       "502            J Nat Prod          2020            NaN        NaN   \n",
       "431       Bioorg Med Chem          2016            NaN        NaN   \n",
       "305  Bioorg Med Chem Lett          2022            NaN        NaN   \n",
       "..                    ...           ...            ...        ...   \n",
       "263            J Med Chem          2012            NaN        NaN   \n",
       "269       Bioorg Med Chem          2016            NaN        NaN   \n",
       "418       Bioorg Med Chem          2016            NaN        NaN   \n",
       "209       Bioorg Med Chem          2016            NaN        NaN   \n",
       "204       Bioorg Med Chem          2016            NaN        NaN   \n",
       "\n",
       "     Action Type                                         SMILES_std  \\\n",
       "90           NaN  CC[C@@]1(O)C(=O)OCc2c1cc1n(c2=O)Cc2cc3ccccc3nc2-1   \n",
       "268          NaN  CCn1cc(C(=O)O)c(=O)c2cc(F)c(N3CCN(CNc4ccc(S(=O...   \n",
       "502    INHIBITOR  CC(=O)C1=C(O)C=C2Oc3c(-c4csc(/C=C(\\C)CCC=C(C)C...   \n",
       "431          NaN  O=C(O)C1=CC(=C(c2ccc(O)c(C(=O)O)c2)c2ccc(O)c(C...   \n",
       "305    INHIBITOR  CC(=O)C1=C(O)C=C2Oc3c(-c4csc(N/N=C/CC(C)CCC=C(...   \n",
       "..           ...                                                ...   \n",
       "263          NaN  NC[C@@H]1O[C@H](O[C@H]2[C@@H](O)[C@H](O[C@@H]3...   \n",
       "269          NaN  CCC[C@@H]1C[C@@H](C(=O)N[C@@H]([C@H]2O[C@H](SC...   \n",
       "418          NaN  COc1ccc(C[C@H](N)C(=O)N[C@H]2[C@@H](O)[C@H](n3...   \n",
       "209          NaN  NC[C@@H]1O[C@H](O[C@H]2[C@@H](O)[C@H](O[C@@H]3...   \n",
       "204          NaN  NC[C@@H]1O[C@H](O[C@H]2[C@@H](O)[C@H](O[C@@H]3...   \n",
       "\n",
       "                       inchikeys  act_class  \n",
       "90   VSJKWCGYPAHWDS-FQEVSTJZSA-N        NaN  \n",
       "268  RUBMSPWXSHZTRU-UHFFFAOYSA-N     active  \n",
       "502  XYRHEOIBWUNZMZ-GGRWDMAWSA-N     active  \n",
       "431  GIXWDMTZECRIJT-UHFFFAOYSA-N     active  \n",
       "305  QBQXWRMQBGVMLB-ZJZGQBIDSA-N     active  \n",
       "..                           ...        ...  \n",
       "263  PGBHMTALBVVCIT-VCIWKGPPSA-N   inactive  \n",
       "269  UFUVLHLTWXBHGZ-MGZQPHGTSA-N   inactive  \n",
       "418  RXWNCPJZOCPEPQ-NVWDDTSBSA-N   inactive  \n",
       "209  UOZODPSAJZTQNH-LSWIJEOBSA-N   inactive  \n",
       "204  DBLVDAUGBTYDFR-SWMBIRFSSA-N   inactive  \n",
       "\n",
       "[312 rows x 49 columns]"
      ]
     },
     "execution_count": 51,
     "metadata": {},
     "output_type": "execute_result"
    }
   ],
   "source": [
    "activities"
   ]
  },
  {
   "cell_type": "code",
   "execution_count": 52,
   "id": "b9d81acf-80e8-45f4-8b65-61a7cc26ce62",
   "metadata": {},
   "outputs": [],
   "source": [
    "activities[\"SMILES_std\"].to_csv(\"Q9NUW8_curated_dataset.csv\", sep=\"\\t\")"
   ]
  },
  {
   "cell_type": "code",
   "execution_count": null,
   "id": "7c457d8e-6d85-4676-9339-a22f3e4ec71e",
   "metadata": {},
   "outputs": [],
   "source": []
  }
 ],
 "metadata": {
  "kernelspec": {
   "display_name": "Python 3 (ipykernel)",
   "language": "python",
   "name": "python3"
  },
  "language_info": {
   "codemirror_mode": {
    "name": "ipython",
    "version": 3
   },
   "file_extension": ".py",
   "mimetype": "text/x-python",
   "name": "python",
   "nbconvert_exporter": "python",
   "pygments_lexer": "ipython3",
   "version": "3.11.2"
  }
 },
 "nbformat": 4,
 "nbformat_minor": 5
}
