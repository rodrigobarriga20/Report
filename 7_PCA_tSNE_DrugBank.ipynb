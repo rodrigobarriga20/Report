{
 "cells": [
  {
   "cell_type": "markdown",
   "id": "8c823a9e",
   "metadata": {},
   "source": [
    "# Lab Rotation - Nuno Martinho (7)"
   ]
  },
  {
   "cell_type": "markdown",
   "id": "f9be16ef",
   "metadata": {},
   "source": [
    "### Morgan Fingerprints -  PCA & t-SNE (Drug Bank)"
   ]
  },
  {
   "cell_type": "markdown",
   "id": "eec9304b",
   "metadata": {},
   "source": [
    "##### rdkit github greglandrum"
   ]
  },
  {
   "cell_type": "code",
   "execution_count": 117,
   "id": "895d864f",
   "metadata": {},
   "outputs": [],
   "source": [
    "# Inputs\n",
    "\n",
    "import numpy as np\n",
    "import matplotlib.pyplot as plt\n",
    "import seaborn as sns\n",
    "import pandas as pd\n",
    "from rdkit import Chem\n",
    "from rdkit import DataStructs\n",
    "from rdkit.Chem import AllChem\n",
    "from rdkit.Chem import PandasTools\n",
    "from rdkit.Chem.Draw import IPythonConsole\n",
    "from __future__ import print_function\n",
    "%matplotlib inline\n",
    "from sklearn.decomposition import PCA\n",
    "from sklearn.manifold import TSNE\n",
    "from tqdm import tqdm"
   ]
  },
  {
   "cell_type": "code",
   "execution_count": 118,
   "id": "b4d9d7dd",
   "metadata": {},
   "outputs": [],
   "source": [
    "# Upload information of our dataset\n",
    "\n",
    "Dataset_Fingerprints = np.load('Morgan_Fingerprints.npy')\n",
    "Dataset = pd.read_csv(\"Database_curated_WithMorgan.csv\")\n",
    "\n",
    "# Add Morgan Fingerprints to my Dataset dataframe\n",
    "\n",
    "Dataset[\"Morgan Fingerprints\"] = Dataset_Fingerprints.tolist()\n",
    "\n",
    "# Make two different dataframes for actives and inactives; make one for DrugBank\n",
    "\n",
    "Actives = Dataset[Dataset[\"Active/Inactive\"] == 1]\n",
    "Inactives = Dataset[Dataset[\"Active/Inactive\"] == 0]\n",
    "\n",
    "# Upload information of DrugBank\n",
    "\n",
    "DrugBank_Fingerprints = np.load(\"Morgan_Fingerprints_DrugBank.npy\")\n",
    "DrugBank = pd.read_csv(\"DrugBank_curated_WithMorgan.csv\")\n",
    "\n",
    "# Add Morgan Fingerprints to my DrugBank dataframe\n",
    "\n",
    "DrugBank[\"Morgan Fingerprints\"] = DrugBank_Fingerprints.tolist()\n",
    "DrugBank[\"Name\"] = \"DrugBank\"\n",
    "\n",
    "Input = pd.DataFrame(columns = [\"Active/Inactive/DrugBank\", \"Morgan Fingerprints\"])\n",
    "Input[\"Active/Inactive/DrugBank\"] = pd.concat([Actives[\"Active/Inactive\"], Inactives[\"Active/Inactive\"], DrugBank[\"Name\"]]) \n",
    "Input[\"Morgan Fingerprints\"] = pd.concat([Actives[\"Morgan Fingerprints\"], Inactives[\"Morgan Fingerprints\"], DrugBank[\"Morgan Fingerprints\"]]) "
   ]
  },
  {
   "cell_type": "code",
   "execution_count": 119,
   "id": "1e1f2f97",
   "metadata": {},
   "outputs": [
    {
     "data": {
      "text/html": [
       "<div>\n",
       "<style scoped>\n",
       "    .dataframe tbody tr th:only-of-type {\n",
       "        vertical-align: middle;\n",
       "    }\n",
       "\n",
       "    .dataframe tbody tr th {\n",
       "        vertical-align: top;\n",
       "    }\n",
       "\n",
       "    .dataframe thead th {\n",
       "        text-align: right;\n",
       "    }\n",
       "</style>\n",
       "<table border=\"1\" class=\"dataframe\">\n",
       "  <thead>\n",
       "    <tr style=\"text-align: right;\">\n",
       "      <th></th>\n",
       "      <th>Active/Inactive/DrugBank</th>\n",
       "      <th>Morgan Fingerprints</th>\n",
       "    </tr>\n",
       "  </thead>\n",
       "  <tbody>\n",
       "    <tr>\n",
       "      <th>0</th>\n",
       "      <td>1.0</td>\n",
       "      <td>[0, 1, 0, 0, 0, 0, 0, 0, 0, 0, 0, 0, 0, 0, 1, ...</td>\n",
       "    </tr>\n",
       "    <tr>\n",
       "      <th>6</th>\n",
       "      <td>1.0</td>\n",
       "      <td>[0, 1, 0, 0, 0, 0, 0, 0, 0, 0, 0, 0, 0, 0, 1, ...</td>\n",
       "    </tr>\n",
       "    <tr>\n",
       "      <th>7</th>\n",
       "      <td>1.0</td>\n",
       "      <td>[0, 1, 0, 0, 0, 0, 0, 0, 0, 0, 0, 0, 0, 0, 1, ...</td>\n",
       "    </tr>\n",
       "    <tr>\n",
       "      <th>8</th>\n",
       "      <td>1.0</td>\n",
       "      <td>[0, 1, 0, 0, 0, 0, 0, 0, 0, 0, 0, 0, 0, 0, 1, ...</td>\n",
       "    </tr>\n",
       "    <tr>\n",
       "      <th>9</th>\n",
       "      <td>1.0</td>\n",
       "      <td>[0, 1, 0, 0, 0, 0, 0, 0, 0, 0, 0, 1, 0, 0, 1, ...</td>\n",
       "    </tr>\n",
       "    <tr>\n",
       "      <th>...</th>\n",
       "      <td>...</td>\n",
       "      <td>...</td>\n",
       "    </tr>\n",
       "    <tr>\n",
       "      <th>11618</th>\n",
       "      <td>DrugBank</td>\n",
       "      <td>[0, 0, 0, 0, 0, 0, 0, 0, 0, 0, 0, 0, 0, 0, 0, ...</td>\n",
       "    </tr>\n",
       "    <tr>\n",
       "      <th>11619</th>\n",
       "      <td>DrugBank</td>\n",
       "      <td>[0, 0, 0, 0, 0, 0, 0, 0, 1, 0, 1, 0, 0, 0, 0, ...</td>\n",
       "    </tr>\n",
       "    <tr>\n",
       "      <th>11620</th>\n",
       "      <td>DrugBank</td>\n",
       "      <td>[0, 0, 0, 0, 0, 0, 0, 0, 0, 0, 0, 0, 0, 0, 0, ...</td>\n",
       "    </tr>\n",
       "    <tr>\n",
       "      <th>11621</th>\n",
       "      <td>DrugBank</td>\n",
       "      <td>[0, 0, 0, 1, 0, 0, 0, 0, 0, 0, 0, 0, 0, 0, 0, ...</td>\n",
       "    </tr>\n",
       "    <tr>\n",
       "      <th>11622</th>\n",
       "      <td>DrugBank</td>\n",
       "      <td>[0, 1, 0, 0, 0, 0, 0, 0, 0, 0, 0, 0, 0, 0, 0, ...</td>\n",
       "    </tr>\n",
       "  </tbody>\n",
       "</table>\n",
       "<p>11658 rows × 2 columns</p>\n",
       "</div>"
      ],
      "text/plain": [
       "      Active/Inactive/DrugBank  \\\n",
       "0                          1.0   \n",
       "6                          1.0   \n",
       "7                          1.0   \n",
       "8                          1.0   \n",
       "9                          1.0   \n",
       "...                        ...   \n",
       "11618                 DrugBank   \n",
       "11619                 DrugBank   \n",
       "11620                 DrugBank   \n",
       "11621                 DrugBank   \n",
       "11622                 DrugBank   \n",
       "\n",
       "                                     Morgan Fingerprints  \n",
       "0      [0, 1, 0, 0, 0, 0, 0, 0, 0, 0, 0, 0, 0, 0, 1, ...  \n",
       "6      [0, 1, 0, 0, 0, 0, 0, 0, 0, 0, 0, 0, 0, 0, 1, ...  \n",
       "7      [0, 1, 0, 0, 0, 0, 0, 0, 0, 0, 0, 0, 0, 0, 1, ...  \n",
       "8      [0, 1, 0, 0, 0, 0, 0, 0, 0, 0, 0, 0, 0, 0, 1, ...  \n",
       "9      [0, 1, 0, 0, 0, 0, 0, 0, 0, 0, 0, 1, 0, 0, 1, ...  \n",
       "...                                                  ...  \n",
       "11618  [0, 0, 0, 0, 0, 0, 0, 0, 0, 0, 0, 0, 0, 0, 0, ...  \n",
       "11619  [0, 0, 0, 0, 0, 0, 0, 0, 1, 0, 1, 0, 0, 0, 0, ...  \n",
       "11620  [0, 0, 0, 0, 0, 0, 0, 0, 0, 0, 0, 0, 0, 0, 0, ...  \n",
       "11621  [0, 0, 0, 1, 0, 0, 0, 0, 0, 0, 0, 0, 0, 0, 0, ...  \n",
       "11622  [0, 1, 0, 0, 0, 0, 0, 0, 0, 0, 0, 0, 0, 0, 0, ...  \n",
       "\n",
       "[11658 rows x 2 columns]"
      ]
     },
     "execution_count": 119,
     "metadata": {},
     "output_type": "execute_result"
    }
   ],
   "source": [
    "Input"
   ]
  },
  {
   "cell_type": "code",
   "execution_count": 120,
   "id": "a55034f6",
   "metadata": {},
   "outputs": [],
   "source": [
    "# Add list of all Morgans to be read from PCA\n",
    "\n",
    "Morgans_list = list(Input[\"Morgan Fingerprints\"])"
   ]
  },
  {
   "cell_type": "code",
   "execution_count": 121,
   "id": "feead1b3",
   "metadata": {},
   "outputs": [
    {
     "data": {
      "text/plain": [
       "(11658, 2)"
      ]
     },
     "execution_count": 121,
     "metadata": {},
     "output_type": "execute_result"
    }
   ],
   "source": [
    "# Compute PCA\n",
    "\n",
    "pca = PCA(n_components=2, random_state=0)\n",
    "pca_arr = pca.fit_transform(Morgans_list)\n",
    "pca_df = pd.DataFrame(pca_arr, columns=[\"PC_1\", \"PC_2\"])\n",
    "pca_df.shape"
   ]
  },
  {
   "cell_type": "code",
   "execution_count": 122,
   "id": "ce0503b2",
   "metadata": {},
   "outputs": [],
   "source": [
    "# Add to each dot its information regarding activity\n",
    "\n",
    "# Reset the index of the DataFrame\n",
    "Input.reset_index(drop=True, inplace=True)\n",
    "\n",
    "# Add to each dot its information regarding activity\n",
    "pca_df[\"Activity\"] = Input[\"Active/Inactive/DrugBank\"]"
   ]
  },
  {
   "cell_type": "code",
   "execution_count": 1,
   "id": "1c263ad4",
   "metadata": {},
   "outputs": [
    {
     "ename": "NameError",
     "evalue": "name 'plt' is not defined",
     "output_type": "error",
     "traceback": [
      "\u001b[1;31m---------------------------------------------------------------------------\u001b[0m",
      "\u001b[1;31mNameError\u001b[0m                                 Traceback (most recent call last)",
      "Cell \u001b[1;32mIn[1], line 1\u001b[0m\n\u001b[1;32m----> 1\u001b[0m fig, ax \u001b[38;5;241m=\u001b[39m plt\u001b[38;5;241m.\u001b[39msubplots()\n\u001b[0;32m      2\u001b[0m active_points \u001b[38;5;241m=\u001b[39m pca_df[pca_df[\u001b[38;5;124m\"\u001b[39m\u001b[38;5;124mActivity\u001b[39m\u001b[38;5;124m\"\u001b[39m] \u001b[38;5;241m==\u001b[39m \u001b[38;5;241m1\u001b[39m]\n\u001b[0;32m      3\u001b[0m inactive_points \u001b[38;5;241m=\u001b[39m pca_df[pca_df[\u001b[38;5;124m\"\u001b[39m\u001b[38;5;124mActivity\u001b[39m\u001b[38;5;124m\"\u001b[39m] \u001b[38;5;241m==\u001b[39m \u001b[38;5;241m0\u001b[39m]\n",
      "\u001b[1;31mNameError\u001b[0m: name 'plt' is not defined"
     ]
    }
   ],
   "source": [
    "fig, ax = plt.subplots()\n",
    "active_points = pca_df[pca_df[\"Activity\"] == 1]\n",
    "inactive_points = pca_df[pca_df[\"Activity\"] == 0]\n",
    "drugbank_points = pca_df[pca_df[\"Activity\"] == \"DrugBank\"]\n",
    "ax.scatter(drugbank_points[\"PC_1\"], drugbank_points[\"PC_2\"], c='#E5DE01', label='DrugBank')\n",
    "ax.scatter(active_points[\"PC_1\"], active_points[\"PC_2\"], c='#00B98D', label='Active', edgecolors=\"black\")\n",
    "ax.scatter(inactive_points[\"PC_1\"], inactive_points[\"PC_2\"], c='#DC2E00', label='Inactive', edgecolors=\"black\")\n",
    "\n",
    "\n",
    "ax.set_ylabel('PC_2', fontsize=14)\n",
    "ax.set_xlabel('PC_1', fontsize=14)\n",
    "ax.tick_params(axis='x', labelsize=12)\n",
    "ax.tick_params(axis='y', labelsize=12)\n",
    "ax.set_title(label=\"PCA - Actives/Inactives vs. DrugBank\", fontsize=18, pad=10)\n",
    "ax.legend(fontsize=10, borderaxespad=0.2, handletextpad=0.2, loc=\"best\")\n",
    "border_linewidth = 2  # Adjust the linewidth as needed\n",
    "ax.spines['top'].set_visible(True)\n",
    "ax.spines['right'].set_visible(True)\n",
    "ax.spines['bottom'].set_visible(True)\n",
    "ax.spines['left'].set_visible(True)\n",
    "ax.spines['top'].set_linewidth(border_linewidth)\n",
    "ax.spines['right'].set_linewidth(border_linewidth)\n",
    "ax.spines['bottom'].set_linewidth(border_linewidth)\n",
    "ax.spines['left'].set_linewidth(border_linewidth)\n",
    "\n",
    "plt.tight_layout()\n",
    "plt.savefig(\"PCA_DrugBank.svg\", dpi=600)\n",
    "plt.show()"
   ]
  },
  {
   "cell_type": "code",
   "execution_count": 124,
   "id": "cd9a5f96",
   "metadata": {},
   "outputs": [
    {
     "data": {
      "text/html": [
       "<div>\n",
       "<style scoped>\n",
       "    .dataframe tbody tr th:only-of-type {\n",
       "        vertical-align: middle;\n",
       "    }\n",
       "\n",
       "    .dataframe tbody tr th {\n",
       "        vertical-align: top;\n",
       "    }\n",
       "\n",
       "    .dataframe thead th {\n",
       "        text-align: right;\n",
       "    }\n",
       "</style>\n",
       "<table border=\"1\" class=\"dataframe\">\n",
       "  <thead>\n",
       "    <tr style=\"text-align: right;\">\n",
       "      <th></th>\n",
       "      <th>Active/Inactive/DrugBank</th>\n",
       "      <th>Morgan Fingerprints</th>\n",
       "    </tr>\n",
       "  </thead>\n",
       "  <tbody>\n",
       "    <tr>\n",
       "      <th>0</th>\n",
       "      <td>1.0</td>\n",
       "      <td>[0, 1, 0, 0, 0, 0, 0, 0, 0, 0, 0, 0, 0, 0, 1, ...</td>\n",
       "    </tr>\n",
       "    <tr>\n",
       "      <th>1</th>\n",
       "      <td>1.0</td>\n",
       "      <td>[0, 1, 0, 0, 0, 0, 0, 0, 0, 0, 0, 0, 0, 0, 1, ...</td>\n",
       "    </tr>\n",
       "    <tr>\n",
       "      <th>2</th>\n",
       "      <td>1.0</td>\n",
       "      <td>[0, 1, 0, 0, 0, 0, 0, 0, 0, 0, 0, 0, 0, 0, 1, ...</td>\n",
       "    </tr>\n",
       "    <tr>\n",
       "      <th>3</th>\n",
       "      <td>1.0</td>\n",
       "      <td>[0, 1, 0, 0, 0, 0, 0, 0, 0, 0, 0, 0, 0, 0, 1, ...</td>\n",
       "    </tr>\n",
       "    <tr>\n",
       "      <th>4</th>\n",
       "      <td>1.0</td>\n",
       "      <td>[0, 1, 0, 0, 0, 0, 0, 0, 0, 0, 0, 1, 0, 0, 1, ...</td>\n",
       "    </tr>\n",
       "    <tr>\n",
       "      <th>...</th>\n",
       "      <td>...</td>\n",
       "      <td>...</td>\n",
       "    </tr>\n",
       "    <tr>\n",
       "      <th>11653</th>\n",
       "      <td>DrugBank</td>\n",
       "      <td>[0, 0, 0, 0, 0, 0, 0, 0, 0, 0, 0, 0, 0, 0, 0, ...</td>\n",
       "    </tr>\n",
       "    <tr>\n",
       "      <th>11654</th>\n",
       "      <td>DrugBank</td>\n",
       "      <td>[0, 0, 0, 0, 0, 0, 0, 0, 1, 0, 1, 0, 0, 0, 0, ...</td>\n",
       "    </tr>\n",
       "    <tr>\n",
       "      <th>11655</th>\n",
       "      <td>DrugBank</td>\n",
       "      <td>[0, 0, 0, 0, 0, 0, 0, 0, 0, 0, 0, 0, 0, 0, 0, ...</td>\n",
       "    </tr>\n",
       "    <tr>\n",
       "      <th>11656</th>\n",
       "      <td>DrugBank</td>\n",
       "      <td>[0, 0, 0, 1, 0, 0, 0, 0, 0, 0, 0, 0, 0, 0, 0, ...</td>\n",
       "    </tr>\n",
       "    <tr>\n",
       "      <th>11657</th>\n",
       "      <td>DrugBank</td>\n",
       "      <td>[0, 1, 0, 0, 0, 0, 0, 0, 0, 0, 0, 0, 0, 0, 0, ...</td>\n",
       "    </tr>\n",
       "  </tbody>\n",
       "</table>\n",
       "<p>11658 rows × 2 columns</p>\n",
       "</div>"
      ],
      "text/plain": [
       "      Active/Inactive/DrugBank  \\\n",
       "0                          1.0   \n",
       "1                          1.0   \n",
       "2                          1.0   \n",
       "3                          1.0   \n",
       "4                          1.0   \n",
       "...                        ...   \n",
       "11653                 DrugBank   \n",
       "11654                 DrugBank   \n",
       "11655                 DrugBank   \n",
       "11656                 DrugBank   \n",
       "11657                 DrugBank   \n",
       "\n",
       "                                     Morgan Fingerprints  \n",
       "0      [0, 1, 0, 0, 0, 0, 0, 0, 0, 0, 0, 0, 0, 0, 1, ...  \n",
       "1      [0, 1, 0, 0, 0, 0, 0, 0, 0, 0, 0, 0, 0, 0, 1, ...  \n",
       "2      [0, 1, 0, 0, 0, 0, 0, 0, 0, 0, 0, 0, 0, 0, 1, ...  \n",
       "3      [0, 1, 0, 0, 0, 0, 0, 0, 0, 0, 0, 0, 0, 0, 1, ...  \n",
       "4      [0, 1, 0, 0, 0, 0, 0, 0, 0, 0, 0, 1, 0, 0, 1, ...  \n",
       "...                                                  ...  \n",
       "11653  [0, 0, 0, 0, 0, 0, 0, 0, 0, 0, 0, 0, 0, 0, 0, ...  \n",
       "11654  [0, 0, 0, 0, 0, 0, 0, 0, 1, 0, 1, 0, 0, 0, 0, ...  \n",
       "11655  [0, 0, 0, 0, 0, 0, 0, 0, 0, 0, 0, 0, 0, 0, 0, ...  \n",
       "11656  [0, 0, 0, 1, 0, 0, 0, 0, 0, 0, 0, 0, 0, 0, 0, ...  \n",
       "11657  [0, 1, 0, 0, 0, 0, 0, 0, 0, 0, 0, 0, 0, 0, 0, ...  \n",
       "\n",
       "[11658 rows x 2 columns]"
      ]
     },
     "execution_count": 124,
     "metadata": {},
     "output_type": "execute_result"
    }
   ],
   "source": [
    "Input"
   ]
  },
  {
   "cell_type": "code",
   "execution_count": 125,
   "id": "0129f186",
   "metadata": {},
   "outputs": [],
   "source": [
    "# Combined arrays - actives, inactives and DrugBank\n",
    "\n",
    "# Convert the \"Morgan Fingerprints\" column into a NumPy array of lists\n",
    "\n",
    "All_Fingerprints = np.array(Input[\"Morgan Fingerprints\"].tolist())\n",
    "\n",
    "result_array = np.vstack(All_Fingerprints)"
   ]
  },
  {
   "cell_type": "code",
   "execution_count": 126,
   "id": "301e6199",
   "metadata": {},
   "outputs": [
    {
     "name": "stderr",
     "output_type": "stream",
     "text": [
      "Computing t-SNE: 100%|██████████| 11658/11658 [00:00<00:00, 1296423.26samples/s]\n"
     ]
    }
   ],
   "source": [
    "# Compute t-SNE/t-Distributed Stochastic Neighborhood Embedding\n",
    "\n",
    "tsne = TSNE(n_components=2, random_state=0, perplexity=30, n_iter=5000)\n",
    "tsne_arr = tqdm(tsne.fit_transform(result_array), desc=\"Computing t-SNE\", unit=\"samples\") \n",
    "tsne_df = pd.DataFrame(tsne_arr, columns=[\"TSNE-1\", \"TSNE-2\"])"
   ]
  },
  {
   "cell_type": "code",
   "execution_count": 127,
   "id": "87c31ece",
   "metadata": {},
   "outputs": [],
   "source": [
    "# Add to each dot its information regarding activity\n",
    "\n",
    "tsne_df[\"Activity\"] = Input[\"Active/Inactive/DrugBank\"]"
   ]
  },
  {
   "cell_type": "code",
   "execution_count": 128,
   "id": "c4d7113d",
   "metadata": {},
   "outputs": [
    {
     "data": {
      "image/png": "[encoded data removed]",
      "text/plain": [
       "<Figure size 640x480 with 1 Axes>"
      ]
     },
     "metadata": {},
     "output_type": "display_data"
    }
   ],
   "source": [
    "fig, ax = plt.subplots()\n",
    "active_points = tsne_df[tsne_df[\"Activity\"] == 1]\n",
    "inactive_points = tsne_df[tsne_df[\"Activity\"] == 0]\n",
    "drugbank_points = tsne_df[tsne_df[\"Activity\"] == \"DrugBank\"]\n",
    "ax.scatter(drugbank_points[\"TSNE-1\"], drugbank_points[\"TSNE-2\"], c='#E5DE01', label='DrugBank')\n",
    "ax.scatter(active_points[\"TSNE-1\"], active_points[\"TSNE-2\"], c='#00B98D', label='Active', edgecolors=\"black\")\n",
    "ax.scatter(inactive_points[\"TSNE-1\"], inactive_points[\"TSNE-2\"], c='#DC2E00', label='Inactive', edgecolors=\"black\")\n",
    "\n",
    "ax.set_ylabel('TSNE-2', fontsize=14)\n",
    "ax.set_xlabel('TSNE-1', fontsize=14)\n",
    "ax.tick_params(axis='x', labelsize=12)\n",
    "ax.tick_params(axis='y', labelsize=12)\n",
    "ax.set_title(label=\"t-SNE - Actives/Inactives vs. DrugBank\", fontsize=18, pad=10)\n",
    "ax.legend(fontsize=10, borderaxespad=0.2, handletextpad=0.2, loc=\"best\")\n",
    "border_linewidth = 2  # Adjust the linewidth as needed\n",
    "ax.spines['top'].set_visible(True)\n",
    "ax.spines['right'].set_visible(True)\n",
    "ax.spines['bottom'].set_visible(True)\n",
    "ax.spines['left'].set_visible(True)\n",
    "ax.spines['top'].set_linewidth(border_linewidth)\n",
    "ax.spines['right'].set_linewidth(border_linewidth)\n",
    "ax.spines['bottom'].set_linewidth(border_linewidth)\n",
    "ax.spines['left'].set_linewidth(border_linewidth)\n",
    "\n",
    "plt.tight_layout()\n",
    "plt.savefig(\"TSNE_DrugBank.svg\", dpi=600)\n",
    "plt.show()"
   ]
  }
 ],
 "metadata": {
  "kernelspec": {
   "display_name": "Python 3 (ipykernel)",
   "language": "python",
   "name": "python3"
  },
  "language_info": {
   "codemirror_mode": {
    "name": "ipython",
    "version": 3
   },
   "file_extension": ".py",
   "mimetype": "text/x-python",
   "name": "python",
   "nbconvert_exporter": "python",
   "pygments_lexer": "ipython3",
   "version": "3.11.5"
  }
 },
 "nbformat": 4,
 "nbformat_minor": 5
}
